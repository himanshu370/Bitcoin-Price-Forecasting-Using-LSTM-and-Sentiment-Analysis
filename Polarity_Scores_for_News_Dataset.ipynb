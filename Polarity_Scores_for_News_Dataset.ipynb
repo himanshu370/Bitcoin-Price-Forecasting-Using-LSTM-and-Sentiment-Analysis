{
  "nbformat": 4,
  "nbformat_minor": 0,
  "metadata": {
    "colab": {
      "provenance": []
    },
    "kernelspec": {
      "name": "python3",
      "display_name": "Python 3"
    },
    "language_info": {
      "name": "python"
    }
  },
  "cells": [
    {
      "cell_type": "markdown",
      "source": [
        "Importing Libraries"
      ],
      "metadata": {
        "id": "ZxlcAfcUCyQe"
      }
    },
    {
      "cell_type": "code",
      "execution_count": 3,
      "metadata": {
        "colab": {
          "base_uri": "https://localhost:8080/"
        },
        "id": "D8-5Z8QxbjBC",
        "outputId": "0e0a3cbd-ccbb-4d42-b23a-b70b7eaffaf7"
      },
      "outputs": [
        {
          "output_type": "stream",
          "name": "stderr",
          "text": [
            "[nltk_data] Downloading package stopwords to /root/nltk_data...\n",
            "[nltk_data]   Package stopwords is already up-to-date!\n",
            "[nltk_data] Downloading package punkt to /root/nltk_data...\n",
            "[nltk_data]   Package punkt is already up-to-date!\n"
          ]
        },
        {
          "output_type": "stream",
          "name": "stdout",
          "text": [
            "Collecting langdetect\n",
            "  Downloading langdetect-1.0.9.tar.gz (981 kB)\n",
            "\u001b[?25l     \u001b[90m━━━━━━━━━━━━━━━━━━━━━━━━━━━━━━━━━━━━━━━━\u001b[0m \u001b[32m0.0/981.5 kB\u001b[0m \u001b[31m?\u001b[0m eta \u001b[36m-:--:--\u001b[0m\r\u001b[2K     \u001b[91m━━━━━━━\u001b[0m\u001b[91m╸\u001b[0m\u001b[90m━━━━━━━━━━━━━━━━━━━━━━━━━━━━━━━━\u001b[0m \u001b[32m194.6/981.5 kB\u001b[0m \u001b[31m5.7 MB/s\u001b[0m eta \u001b[36m0:00:01\u001b[0m\r\u001b[2K     \u001b[91m━━━━━━━━━━━━━━━━━━━━━━━━━━━━━━\u001b[0m\u001b[90m╺\u001b[0m\u001b[90m━━━━━━━━━\u001b[0m \u001b[32m737.3/981.5 kB\u001b[0m \u001b[31m10.6 MB/s\u001b[0m eta \u001b[36m0:00:01\u001b[0m\r\u001b[2K     \u001b[90m━━━━━━━━━━━━━━━━━━━━━━━━━━━━━━━━━━━━━━━━\u001b[0m \u001b[32m981.5/981.5 kB\u001b[0m \u001b[31m9.7 MB/s\u001b[0m eta \u001b[36m0:00:00\u001b[0m\n",
            "\u001b[?25h  Preparing metadata (setup.py) ... \u001b[?25l\u001b[?25hdone\n",
            "Requirement already satisfied: six in /usr/local/lib/python3.10/dist-packages (from langdetect) (1.16.0)\n",
            "Building wheels for collected packages: langdetect\n",
            "  Building wheel for langdetect (setup.py) ... \u001b[?25l\u001b[?25hdone\n",
            "  Created wheel for langdetect: filename=langdetect-1.0.9-py3-none-any.whl size=993227 sha256=701d9ad6757e43c0d6468deaed015122bb7ae521ee7531c26624c33237ac0e61\n",
            "  Stored in directory: /root/.cache/pip/wheels/95/03/7d/59ea870c70ce4e5a370638b5462a7711ab78fba2f655d05106\n",
            "Successfully built langdetect\n",
            "Installing collected packages: langdetect\n",
            "Successfully installed langdetect-1.0.9\n"
          ]
        }
      ],
      "source": [
        "import nltk\n",
        "nltk.download('stopwords')\n",
        "nltk.download('punkt')\n",
        "import spacy\n",
        "import re\n",
        "import pandas as pd\n",
        "import numpy as np\n",
        "import pandas as pd\n",
        "import re\n",
        "!pip install langdetect\n",
        "from langdetect import detect\n",
        "from nltk.corpus import stopwords\n",
        "from nltk.tokenize import word_tokenize\n",
        "import spacy\n",
        "import nltk\n",
        "import matplotlib.pyplot as plt\n",
        "from sklearn.svm import SVR\n",
        "from sklearn.preprocessing import StandardScaler\n",
        "from sklearn.model_selection import train_test_split\n",
        "from sklearn.model_selection import GridSearchCV\n",
        "from sklearn.metrics import mean_squared_error\n",
        "from sklearn.metrics import accuracy_score, classification_report\n",
        "from sklearn.linear_model import LogisticRegression\n",
        "from sklearn.feature_extraction.text import TfidfVectorizer\n",
        "from sklearn.ensemble import RandomForestRegressor, GradientBoostingRegressor\n",
        "from nltk.tokenize import word_tokenize\n",
        "from nltk.corpus import stopwords\n",
        "from langdetect import detect\n",
        "from gensim.utils import simple_preprocess\n",
        "from gensim.models import Word2Vec\n",
        "from gensim.models import KeyedVectors"
      ]
    },
    {
      "cell_type": "markdown",
      "source": [
        "Dataset Loading"
      ],
      "metadata": {
        "id": "faVTIzY1C1c7"
      }
    },
    {
      "cell_type": "code",
      "source": [
        "df = pd.read_excel(\"FinalDataset.xlsx\", dtype={'Body': str})"
      ],
      "metadata": {
        "id": "gZXAzEWab7Fo"
      },
      "execution_count": 4,
      "outputs": []
    },
    {
      "cell_type": "code",
      "source": [
        "df.head()"
      ],
      "metadata": {
        "colab": {
          "base_uri": "https://localhost:8080/",
          "height": 206
        },
        "id": "lK_pL2w3aBGo",
        "outputId": "cb688127-ec4e-403d-e659-f58d69ad3f15"
      },
      "execution_count": 5,
      "outputs": [
        {
          "output_type": "execute_result",
          "data": {
            "text/plain": [
              "        Date                                               Body  Sentiment\n",
              "0 2022-03-03  The firm stated in a release that it was estab...       -1.0\n",
              "1 2022-03-07  Russian banks have indicated that they may loo...       -1.0\n",
              "2 2022-04-12  Bitfinex and Tether set up a crypto relief fun...       -1.0\n",
              "3 2022-04-25  For us, we think the cryptocurrency markets re...       -1.0\n",
              "4 2022-05-05  Binance is backing Elon Musk's takeover of Twi...       -1.0"
            ],
            "text/html": [
              "\n",
              "  <div id=\"df-2577a249-56ea-48e6-ad8a-bc4a0dc064c4\" class=\"colab-df-container\">\n",
              "    <div>\n",
              "<style scoped>\n",
              "    .dataframe tbody tr th:only-of-type {\n",
              "        vertical-align: middle;\n",
              "    }\n",
              "\n",
              "    .dataframe tbody tr th {\n",
              "        vertical-align: top;\n",
              "    }\n",
              "\n",
              "    .dataframe thead th {\n",
              "        text-align: right;\n",
              "    }\n",
              "</style>\n",
              "<table border=\"1\" class=\"dataframe\">\n",
              "  <thead>\n",
              "    <tr style=\"text-align: right;\">\n",
              "      <th></th>\n",
              "      <th>Date</th>\n",
              "      <th>Body</th>\n",
              "      <th>Sentiment</th>\n",
              "    </tr>\n",
              "  </thead>\n",
              "  <tbody>\n",
              "    <tr>\n",
              "      <th>0</th>\n",
              "      <td>2022-03-03</td>\n",
              "      <td>The firm stated in a release that it was estab...</td>\n",
              "      <td>-1.0</td>\n",
              "    </tr>\n",
              "    <tr>\n",
              "      <th>1</th>\n",
              "      <td>2022-03-07</td>\n",
              "      <td>Russian banks have indicated that they may loo...</td>\n",
              "      <td>-1.0</td>\n",
              "    </tr>\n",
              "    <tr>\n",
              "      <th>2</th>\n",
              "      <td>2022-04-12</td>\n",
              "      <td>Bitfinex and Tether set up a crypto relief fun...</td>\n",
              "      <td>-1.0</td>\n",
              "    </tr>\n",
              "    <tr>\n",
              "      <th>3</th>\n",
              "      <td>2022-04-25</td>\n",
              "      <td>For us, we think the cryptocurrency markets re...</td>\n",
              "      <td>-1.0</td>\n",
              "    </tr>\n",
              "    <tr>\n",
              "      <th>4</th>\n",
              "      <td>2022-05-05</td>\n",
              "      <td>Binance is backing Elon Musk's takeover of Twi...</td>\n",
              "      <td>-1.0</td>\n",
              "    </tr>\n",
              "  </tbody>\n",
              "</table>\n",
              "</div>\n",
              "    <div class=\"colab-df-buttons\">\n",
              "\n",
              "  <div class=\"colab-df-container\">\n",
              "    <button class=\"colab-df-convert\" onclick=\"convertToInteractive('df-2577a249-56ea-48e6-ad8a-bc4a0dc064c4')\"\n",
              "            title=\"Convert this dataframe to an interactive table.\"\n",
              "            style=\"display:none;\">\n",
              "\n",
              "  <svg xmlns=\"http://www.w3.org/2000/svg\" height=\"24px\" viewBox=\"0 -960 960 960\">\n",
              "    <path d=\"M120-120v-720h720v720H120Zm60-500h600v-160H180v160Zm220 220h160v-160H400v160Zm0 220h160v-160H400v160ZM180-400h160v-160H180v160Zm440 0h160v-160H620v160ZM180-180h160v-160H180v160Zm440 0h160v-160H620v160Z\"/>\n",
              "  </svg>\n",
              "    </button>\n",
              "\n",
              "  <style>\n",
              "    .colab-df-container {\n",
              "      display:flex;\n",
              "      gap: 12px;\n",
              "    }\n",
              "\n",
              "    .colab-df-convert {\n",
              "      background-color: #E8F0FE;\n",
              "      border: none;\n",
              "      border-radius: 50%;\n",
              "      cursor: pointer;\n",
              "      display: none;\n",
              "      fill: #1967D2;\n",
              "      height: 32px;\n",
              "      padding: 0 0 0 0;\n",
              "      width: 32px;\n",
              "    }\n",
              "\n",
              "    .colab-df-convert:hover {\n",
              "      background-color: #E2EBFA;\n",
              "      box-shadow: 0px 1px 2px rgba(60, 64, 67, 0.3), 0px 1px 3px 1px rgba(60, 64, 67, 0.15);\n",
              "      fill: #174EA6;\n",
              "    }\n",
              "\n",
              "    .colab-df-buttons div {\n",
              "      margin-bottom: 4px;\n",
              "    }\n",
              "\n",
              "    [theme=dark] .colab-df-convert {\n",
              "      background-color: #3B4455;\n",
              "      fill: #D2E3FC;\n",
              "    }\n",
              "\n",
              "    [theme=dark] .colab-df-convert:hover {\n",
              "      background-color: #434B5C;\n",
              "      box-shadow: 0px 1px 3px 1px rgba(0, 0, 0, 0.15);\n",
              "      filter: drop-shadow(0px 1px 2px rgba(0, 0, 0, 0.3));\n",
              "      fill: #FFFFFF;\n",
              "    }\n",
              "  </style>\n",
              "\n",
              "    <script>\n",
              "      const buttonEl =\n",
              "        document.querySelector('#df-2577a249-56ea-48e6-ad8a-bc4a0dc064c4 button.colab-df-convert');\n",
              "      buttonEl.style.display =\n",
              "        google.colab.kernel.accessAllowed ? 'block' : 'none';\n",
              "\n",
              "      async function convertToInteractive(key) {\n",
              "        const element = document.querySelector('#df-2577a249-56ea-48e6-ad8a-bc4a0dc064c4');\n",
              "        const dataTable =\n",
              "          await google.colab.kernel.invokeFunction('convertToInteractive',\n",
              "                                                    [key], {});\n",
              "        if (!dataTable) return;\n",
              "\n",
              "        const docLinkHtml = 'Like what you see? Visit the ' +\n",
              "          '<a target=\"_blank\" href=https://colab.research.google.com/notebooks/data_table.ipynb>data table notebook</a>'\n",
              "          + ' to learn more about interactive tables.';\n",
              "        element.innerHTML = '';\n",
              "        dataTable['output_type'] = 'display_data';\n",
              "        await google.colab.output.renderOutput(dataTable, element);\n",
              "        const docLink = document.createElement('div');\n",
              "        docLink.innerHTML = docLinkHtml;\n",
              "        element.appendChild(docLink);\n",
              "      }\n",
              "    </script>\n",
              "  </div>\n",
              "\n",
              "\n",
              "<div id=\"df-7f5b2476-f476-4059-928e-30c9f0a7b846\">\n",
              "  <button class=\"colab-df-quickchart\" onclick=\"quickchart('df-7f5b2476-f476-4059-928e-30c9f0a7b846')\"\n",
              "            title=\"Suggest charts\"\n",
              "            style=\"display:none;\">\n",
              "\n",
              "<svg xmlns=\"http://www.w3.org/2000/svg\" height=\"24px\"viewBox=\"0 0 24 24\"\n",
              "     width=\"24px\">\n",
              "    <g>\n",
              "        <path d=\"M19 3H5c-1.1 0-2 .9-2 2v14c0 1.1.9 2 2 2h14c1.1 0 2-.9 2-2V5c0-1.1-.9-2-2-2zM9 17H7v-7h2v7zm4 0h-2V7h2v10zm4 0h-2v-4h2v4z\"/>\n",
              "    </g>\n",
              "</svg>\n",
              "  </button>\n",
              "\n",
              "<style>\n",
              "  .colab-df-quickchart {\n",
              "      --bg-color: #E8F0FE;\n",
              "      --fill-color: #1967D2;\n",
              "      --hover-bg-color: #E2EBFA;\n",
              "      --hover-fill-color: #174EA6;\n",
              "      --disabled-fill-color: #AAA;\n",
              "      --disabled-bg-color: #DDD;\n",
              "  }\n",
              "\n",
              "  [theme=dark] .colab-df-quickchart {\n",
              "      --bg-color: #3B4455;\n",
              "      --fill-color: #D2E3FC;\n",
              "      --hover-bg-color: #434B5C;\n",
              "      --hover-fill-color: #FFFFFF;\n",
              "      --disabled-bg-color: #3B4455;\n",
              "      --disabled-fill-color: #666;\n",
              "  }\n",
              "\n",
              "  .colab-df-quickchart {\n",
              "    background-color: var(--bg-color);\n",
              "    border: none;\n",
              "    border-radius: 50%;\n",
              "    cursor: pointer;\n",
              "    display: none;\n",
              "    fill: var(--fill-color);\n",
              "    height: 32px;\n",
              "    padding: 0;\n",
              "    width: 32px;\n",
              "  }\n",
              "\n",
              "  .colab-df-quickchart:hover {\n",
              "    background-color: var(--hover-bg-color);\n",
              "    box-shadow: 0 1px 2px rgba(60, 64, 67, 0.3), 0 1px 3px 1px rgba(60, 64, 67, 0.15);\n",
              "    fill: var(--button-hover-fill-color);\n",
              "  }\n",
              "\n",
              "  .colab-df-quickchart-complete:disabled,\n",
              "  .colab-df-quickchart-complete:disabled:hover {\n",
              "    background-color: var(--disabled-bg-color);\n",
              "    fill: var(--disabled-fill-color);\n",
              "    box-shadow: none;\n",
              "  }\n",
              "\n",
              "  .colab-df-spinner {\n",
              "    border: 2px solid var(--fill-color);\n",
              "    border-color: transparent;\n",
              "    border-bottom-color: var(--fill-color);\n",
              "    animation:\n",
              "      spin 1s steps(1) infinite;\n",
              "  }\n",
              "\n",
              "  @keyframes spin {\n",
              "    0% {\n",
              "      border-color: transparent;\n",
              "      border-bottom-color: var(--fill-color);\n",
              "      border-left-color: var(--fill-color);\n",
              "    }\n",
              "    20% {\n",
              "      border-color: transparent;\n",
              "      border-left-color: var(--fill-color);\n",
              "      border-top-color: var(--fill-color);\n",
              "    }\n",
              "    30% {\n",
              "      border-color: transparent;\n",
              "      border-left-color: var(--fill-color);\n",
              "      border-top-color: var(--fill-color);\n",
              "      border-right-color: var(--fill-color);\n",
              "    }\n",
              "    40% {\n",
              "      border-color: transparent;\n",
              "      border-right-color: var(--fill-color);\n",
              "      border-top-color: var(--fill-color);\n",
              "    }\n",
              "    60% {\n",
              "      border-color: transparent;\n",
              "      border-right-color: var(--fill-color);\n",
              "    }\n",
              "    80% {\n",
              "      border-color: transparent;\n",
              "      border-right-color: var(--fill-color);\n",
              "      border-bottom-color: var(--fill-color);\n",
              "    }\n",
              "    90% {\n",
              "      border-color: transparent;\n",
              "      border-bottom-color: var(--fill-color);\n",
              "    }\n",
              "  }\n",
              "</style>\n",
              "\n",
              "  <script>\n",
              "    async function quickchart(key) {\n",
              "      const quickchartButtonEl =\n",
              "        document.querySelector('#' + key + ' button');\n",
              "      quickchartButtonEl.disabled = true;  // To prevent multiple clicks.\n",
              "      quickchartButtonEl.classList.add('colab-df-spinner');\n",
              "      try {\n",
              "        const charts = await google.colab.kernel.invokeFunction(\n",
              "            'suggestCharts', [key], {});\n",
              "      } catch (error) {\n",
              "        console.error('Error during call to suggestCharts:', error);\n",
              "      }\n",
              "      quickchartButtonEl.classList.remove('colab-df-spinner');\n",
              "      quickchartButtonEl.classList.add('colab-df-quickchart-complete');\n",
              "    }\n",
              "    (() => {\n",
              "      let quickchartButtonEl =\n",
              "        document.querySelector('#df-7f5b2476-f476-4059-928e-30c9f0a7b846 button');\n",
              "      quickchartButtonEl.style.display =\n",
              "        google.colab.kernel.accessAllowed ? 'block' : 'none';\n",
              "    })();\n",
              "  </script>\n",
              "</div>\n",
              "\n",
              "    </div>\n",
              "  </div>\n"
            ],
            "application/vnd.google.colaboratory.intrinsic+json": {
              "type": "dataframe",
              "variable_name": "df",
              "summary": "{\n  \"name\": \"df\",\n  \"rows\": 4821,\n  \"fields\": [\n    {\n      \"column\": \"Date\",\n      \"properties\": {\n        \"dtype\": \"date\",\n        \"min\": \"2021-11-05 00:00:00\",\n        \"max\": \"2022-11-15 00:00:00\",\n        \"num_unique_values\": 356,\n        \"samples\": [\n          \"2022-02-08 00:00:00\",\n          \"2022-06-01 00:00:00\",\n          \"2022-05-21 00:00:00\"\n        ],\n        \"semantic_type\": \"\",\n        \"description\": \"\"\n      }\n    },\n    {\n      \"column\": \"Body\",\n      \"properties\": {\n        \"dtype\": \"string\",\n        \"num_unique_values\": 4667,\n        \"samples\": [\n          \"Key differences in the use and development of cryptocurrencies come to the fore as Blockchain Economy Istanbul continues to focus on emerging markets.\",\n          \"There is yet to be a conclusive court ruling regarding the taxation of staked crypto rewards; however, a recent case demonstrates industry progression.\",\n          \"Coins which last moved in the 'lawless era' are liquid again, and on-chain data shows such events mark macro BTC price tops.\"\n        ],\n        \"semantic_type\": \"\",\n        \"description\": \"\"\n      }\n    },\n    {\n      \"column\": \"Sentiment\",\n      \"properties\": {\n        \"dtype\": \"number\",\n        \"std\": 0.19832586455677795,\n        \"min\": -1.0,\n        \"max\": 1.0,\n        \"num_unique_values\": 110,\n        \"samples\": [\n          0.29,\n          -0.43,\n          -0.65\n        ],\n        \"semantic_type\": \"\",\n        \"description\": \"\"\n      }\n    }\n  ]\n}"
            }
          },
          "metadata": {},
          "execution_count": 5
        }
      ]
    },
    {
      "cell_type": "code",
      "source": [
        "df.shape"
      ],
      "metadata": {
        "colab": {
          "base_uri": "https://localhost:8080/"
        },
        "id": "szRTKJ8j5x4B",
        "outputId": "bd485be0-5085-4775-b0de-948e24158492"
      },
      "execution_count": 6,
      "outputs": [
        {
          "output_type": "execute_result",
          "data": {
            "text/plain": [
              "(4821, 3)"
            ]
          },
          "metadata": {},
          "execution_count": 6
        }
      ]
    },
    {
      "cell_type": "code",
      "source": [
        "df.dtypes"
      ],
      "metadata": {
        "colab": {
          "base_uri": "https://localhost:8080/"
        },
        "id": "3VvQca9m5znZ",
        "outputId": "bfd5fe05-f8ab-457d-b6c0-dae81d634b58"
      },
      "execution_count": 7,
      "outputs": [
        {
          "output_type": "execute_result",
          "data": {
            "text/plain": [
              "Date         datetime64[ns]\n",
              "Body                 object\n",
              "Sentiment           float64\n",
              "dtype: object"
            ]
          },
          "metadata": {},
          "execution_count": 7
        }
      ]
    },
    {
      "cell_type": "code",
      "source": [
        "df['Body'] = df['Body'].apply(lambda x: str(x))"
      ],
      "metadata": {
        "id": "sgmV20KYWdSg"
      },
      "execution_count": 8,
      "outputs": []
    },
    {
      "cell_type": "code",
      "source": [
        "mixed_types = df['Body'].apply(type).unique()\n",
        "print(mixed_types)"
      ],
      "metadata": {
        "colab": {
          "base_uri": "https://localhost:8080/"
        },
        "id": "vbuE7p6IZRGs",
        "outputId": "1dcc4e9a-6512-4a88-e051-f68ee8ebe6f2"
      },
      "execution_count": 9,
      "outputs": [
        {
          "output_type": "stream",
          "name": "stdout",
          "text": [
            "[<class 'str'>]\n"
          ]
        }
      ]
    },
    {
      "cell_type": "code",
      "source": [
        "df['Body'] = df['Body'].str.lower()"
      ],
      "metadata": {
        "id": "PV6GdEBVqyuU"
      },
      "execution_count": 10,
      "outputs": []
    },
    {
      "cell_type": "markdown",
      "source": [
        "Data Preprocessing"
      ],
      "metadata": {
        "id": "DqhvzID_C7Cj"
      }
    },
    {
      "cell_type": "code",
      "source": [
        "# Load English language model for lemmatization\n",
        "nlp = spacy.load(\"en_core_web_sm\")\n",
        "\n",
        "# Mapping dictionary for contractions to full forms\n",
        "contraction_mapping = {\n",
        "    \"should've\": \"should have\",\n",
        "    \"shouldn't\": \"should not\",\n",
        "    \"haven't\": \"have not\",\n",
        "    \"hasn't\": \"has not\",\n",
        "    \"hadn't\": \"had not\",\n",
        "    \"aren't\": \"are not\",\n",
        "    \"isn't\": \"is not\",\n",
        "    \"weren't\": \"were not\",\n",
        "    \"won't\": \"will not\",\n",
        "    \"wouldn't\": \"would not\",\n",
        "    \"don't\": \"do not\",\n",
        "    \"doesn't\": \"does not\",\n",
        "    \"didn't\": \"did not\",\n",
        "    \"can't\": \"cannot\",\n",
        "    \"couldn't\": \"could not\",\n",
        "    \"mightn't\": \"might not\",\n",
        "    \"mustn't\": \"must not\",\n",
        "}\n",
        "\n",
        "# Function to convert all words to lowercase\n",
        "def lowercase(text):\n",
        "    return text.lower()\n",
        "\n",
        "# Function to expand contractions\n",
        "def expand_contractions(text):\n",
        "    for contraction, expansion in contraction_mapping.items():\n",
        "        text = text.replace(contraction, expansion)\n",
        "    return text\n",
        "\n",
        "# Function to remove non-English tweets\n",
        "def remove_non_english_tweets(text):\n",
        "    try:\n",
        "        if detect(text) == 'en':\n",
        "            return text\n",
        "        else:\n",
        "            return ''\n",
        "    except:\n",
        "        return ''\n",
        "\n",
        "# Function to remove duplicate tweets\n",
        "def remove_duplicate_tweets(df):\n",
        "    return df.drop_duplicates(subset=[\"Body\"])\n",
        "\n",
        "# Function to remove URLs from tweets\n",
        "def remove_urls(text):\n",
        "    return re.sub(r'http\\S+', '', text)\n",
        "\n",
        "# Function to remove stop words\n",
        "def remove_stopwords(text):\n",
        "    stop_words = set(stopwords.words('english'))\n",
        "    # Define additional words you want to keep\n",
        "    additional_stopwords = {'against', 'no', 'down', 'not', 'below', 'out', 'above', 'won'}\n",
        "    # Remove the additional stopwords from the set\n",
        "    stop_words -= additional_stopwords\n",
        "    word_tokens = word_tokenize(text)\n",
        "    filtered_text = [word for word in word_tokens if word.lower() not in stop_words]\n",
        "    return ' '.join(filtered_text)\n",
        "\n",
        "# Function to replace user mentions with 'USER'\n",
        "def replace_user_mentions(text):\n",
        "    return re.sub(r'@\\w+', 'USER', text)\n",
        "\n",
        "# Function to remove punctuation\n",
        "def remove_punctuation(text):\n",
        "    return re.sub(r'[^\\w\\s]', '', text)\n",
        "\n",
        "# Function to remove tweets with fewer than 4 words\n",
        "def remove_short_tweets(text):\n",
        "    if len(text.split()) >= 4:\n",
        "        return text\n",
        "    else:\n",
        "        return ''\n",
        "\n",
        "# Function for tokenization and lemmatization\n",
        "def tokenize_and_lemmatize(text):\n",
        "    doc = nlp(text)\n",
        "    return ' '.join([token.lemma_ for token in doc])"
      ],
      "metadata": {
        "id": "aXlDc-uhmGLw"
      },
      "execution_count": 11,
      "outputs": []
    },
    {
      "cell_type": "code",
      "source": [
        "df[\"Body\"] = df[\"Body\"].apply(lowercase)\n",
        "df[\"Body\"] = df[\"Body\"].apply(expand_contractions)\n",
        "df.loc[:, \"Body\"] = df[\"Body\"].apply(remove_non_english_tweets)\n",
        "df.loc[:, \"Body\"] = df[\"Body\"].apply(remove_urls)\n",
        "df.loc[:, \"Body\"] = df[\"Body\"].apply(remove_stopwords)\n",
        "df.loc[:, \"Body\"] = df[\"Body\"].apply(replace_user_mentions)\n",
        "df.loc[:, \"Body\"] = df[\"Body\"].apply(remove_punctuation)\n",
        "df.loc[:, \"Body\"] = df[\"Body\"].apply(remove_short_tweets)\n",
        "df.loc[:, \"Body\"] = df[\"Body\"].apply(tokenize_and_lemmatize)"
      ],
      "metadata": {
        "id": "v0_yRS_9n67W"
      },
      "execution_count": 12,
      "outputs": []
    },
    {
      "cell_type": "code",
      "source": [
        "# Now, randomly remove 1000 rows with sentiment 0\n",
        "rows_to_remove = df[df['Sentiment'] == 0].sample(1000).index\n",
        "df_filtered = df.drop(rows_to_remove)"
      ],
      "metadata": {
        "id": "YbilD8g1GCLt"
      },
      "execution_count": 89,
      "outputs": []
    },
    {
      "cell_type": "code",
      "source": [
        "#shuffling the dataframe\n",
        "new_df = df.sample(frac=1, random_state=42)"
      ],
      "metadata": {
        "id": "zuDc9r4lzs0h"
      },
      "execution_count": 20,
      "outputs": []
    },
    {
      "cell_type": "code",
      "source": [
        "new_df"
      ],
      "metadata": {
        "colab": {
          "base_uri": "https://localhost:8080/",
          "height": 423
        },
        "id": "N1b19U2dF3y0",
        "outputId": "04bf40c7-3373-46cd-f373-f1d3bb9255c3"
      },
      "execution_count": 86,
      "outputs": [
        {
          "output_type": "execute_result",
          "data": {
            "text/plain": [
              "           Date                                               Body  Sentiment  \\\n",
              "4343 2022-07-08  us department treasury present president joe b...       0.30   \n",
              "1221 2022-02-08  cash app mention lightning network feature not...       0.00   \n",
              "2083 2022-06-30  despite rapid decline crypto market   buying a...       0.00   \n",
              "1044 2021-12-14  russian central bank move bar financial firm c...       0.00   \n",
              "2567 2022-10-13  cryptocurrency market go enhanced volatility w...       0.00   \n",
              "...         ...                                                ...        ...   \n",
              "4426 2022-02-28  bitcoin   btc   break above usd 40000 mark tod...       0.35   \n",
              "466  2022-05-23  slight improvement equity market resilience ke...      -0.12   \n",
              "3092 2022-04-01  21shares submit spot bitcoin etf application a...       0.07   \n",
              "3772 2022-02-24  cryptoquant   ceo believe major hodler like mi...       0.17   \n",
              "860  2022-06-14  btc price action back above 200week move avera...      -0.04   \n",
              "\n",
              "                                                 Vector  \n",
              "4343  [-0.10913493, 0.05937805, 0.043637086, 0.13158...  \n",
              "1221  [0.0017547607, -0.037887573, -0.06442261, 0.04...  \n",
              "2083  [-0.009234619, -0.0095855715, -0.0640625, 0.05...  \n",
              "1044  [-0.03922896, 0.040527344, -0.0010417592, 0.13...  \n",
              "2567  [-0.035260882, 0.04010882, -0.13795689, 0.1702...  \n",
              "...                                                 ...  \n",
              "4426  [-0.10317993, 0.006887436, -0.055908203, 0.125...  \n",
              "466   [-0.013710022, 0.00071207684, -0.051940918, 0....  \n",
              "3092  [-0.06499967, 0.06795155, -0.015380859, -0.052...  \n",
              "3772  [-0.012426758, -0.0005027771, 0.0045391084, 0....  \n",
              "860   [0.0566508, 0.06607056, -0.05943807, 0.0989786...  \n",
              "\n",
              "[4821 rows x 4 columns]"
            ],
            "text/html": [
              "\n",
              "  <div id=\"df-2877dc28-5a8e-4f01-a1ee-d708f5224c6b\" class=\"colab-df-container\">\n",
              "    <div>\n",
              "<style scoped>\n",
              "    .dataframe tbody tr th:only-of-type {\n",
              "        vertical-align: middle;\n",
              "    }\n",
              "\n",
              "    .dataframe tbody tr th {\n",
              "        vertical-align: top;\n",
              "    }\n",
              "\n",
              "    .dataframe thead th {\n",
              "        text-align: right;\n",
              "    }\n",
              "</style>\n",
              "<table border=\"1\" class=\"dataframe\">\n",
              "  <thead>\n",
              "    <tr style=\"text-align: right;\">\n",
              "      <th></th>\n",
              "      <th>Date</th>\n",
              "      <th>Body</th>\n",
              "      <th>Sentiment</th>\n",
              "      <th>Vector</th>\n",
              "    </tr>\n",
              "  </thead>\n",
              "  <tbody>\n",
              "    <tr>\n",
              "      <th>4343</th>\n",
              "      <td>2022-07-08</td>\n",
              "      <td>us department treasury present president joe b...</td>\n",
              "      <td>0.30</td>\n",
              "      <td>[-0.10913493, 0.05937805, 0.043637086, 0.13158...</td>\n",
              "    </tr>\n",
              "    <tr>\n",
              "      <th>1221</th>\n",
              "      <td>2022-02-08</td>\n",
              "      <td>cash app mention lightning network feature not...</td>\n",
              "      <td>0.00</td>\n",
              "      <td>[0.0017547607, -0.037887573, -0.06442261, 0.04...</td>\n",
              "    </tr>\n",
              "    <tr>\n",
              "      <th>2083</th>\n",
              "      <td>2022-06-30</td>\n",
              "      <td>despite rapid decline crypto market   buying a...</td>\n",
              "      <td>0.00</td>\n",
              "      <td>[-0.009234619, -0.0095855715, -0.0640625, 0.05...</td>\n",
              "    </tr>\n",
              "    <tr>\n",
              "      <th>1044</th>\n",
              "      <td>2021-12-14</td>\n",
              "      <td>russian central bank move bar financial firm c...</td>\n",
              "      <td>0.00</td>\n",
              "      <td>[-0.03922896, 0.040527344, -0.0010417592, 0.13...</td>\n",
              "    </tr>\n",
              "    <tr>\n",
              "      <th>2567</th>\n",
              "      <td>2022-10-13</td>\n",
              "      <td>cryptocurrency market go enhanced volatility w...</td>\n",
              "      <td>0.00</td>\n",
              "      <td>[-0.035260882, 0.04010882, -0.13795689, 0.1702...</td>\n",
              "    </tr>\n",
              "    <tr>\n",
              "      <th>...</th>\n",
              "      <td>...</td>\n",
              "      <td>...</td>\n",
              "      <td>...</td>\n",
              "      <td>...</td>\n",
              "    </tr>\n",
              "    <tr>\n",
              "      <th>4426</th>\n",
              "      <td>2022-02-28</td>\n",
              "      <td>bitcoin   btc   break above usd 40000 mark tod...</td>\n",
              "      <td>0.35</td>\n",
              "      <td>[-0.10317993, 0.006887436, -0.055908203, 0.125...</td>\n",
              "    </tr>\n",
              "    <tr>\n",
              "      <th>466</th>\n",
              "      <td>2022-05-23</td>\n",
              "      <td>slight improvement equity market resilience ke...</td>\n",
              "      <td>-0.12</td>\n",
              "      <td>[-0.013710022, 0.00071207684, -0.051940918, 0....</td>\n",
              "    </tr>\n",
              "    <tr>\n",
              "      <th>3092</th>\n",
              "      <td>2022-04-01</td>\n",
              "      <td>21shares submit spot bitcoin etf application a...</td>\n",
              "      <td>0.07</td>\n",
              "      <td>[-0.06499967, 0.06795155, -0.015380859, -0.052...</td>\n",
              "    </tr>\n",
              "    <tr>\n",
              "      <th>3772</th>\n",
              "      <td>2022-02-24</td>\n",
              "      <td>cryptoquant   ceo believe major hodler like mi...</td>\n",
              "      <td>0.17</td>\n",
              "      <td>[-0.012426758, -0.0005027771, 0.0045391084, 0....</td>\n",
              "    </tr>\n",
              "    <tr>\n",
              "      <th>860</th>\n",
              "      <td>2022-06-14</td>\n",
              "      <td>btc price action back above 200week move avera...</td>\n",
              "      <td>-0.04</td>\n",
              "      <td>[0.0566508, 0.06607056, -0.05943807, 0.0989786...</td>\n",
              "    </tr>\n",
              "  </tbody>\n",
              "</table>\n",
              "<p>4821 rows × 4 columns</p>\n",
              "</div>\n",
              "    <div class=\"colab-df-buttons\">\n",
              "\n",
              "  <div class=\"colab-df-container\">\n",
              "    <button class=\"colab-df-convert\" onclick=\"convertToInteractive('df-2877dc28-5a8e-4f01-a1ee-d708f5224c6b')\"\n",
              "            title=\"Convert this dataframe to an interactive table.\"\n",
              "            style=\"display:none;\">\n",
              "\n",
              "  <svg xmlns=\"http://www.w3.org/2000/svg\" height=\"24px\" viewBox=\"0 -960 960 960\">\n",
              "    <path d=\"M120-120v-720h720v720H120Zm60-500h600v-160H180v160Zm220 220h160v-160H400v160Zm0 220h160v-160H400v160ZM180-400h160v-160H180v160Zm440 0h160v-160H620v160ZM180-180h160v-160H180v160Zm440 0h160v-160H620v160Z\"/>\n",
              "  </svg>\n",
              "    </button>\n",
              "\n",
              "  <style>\n",
              "    .colab-df-container {\n",
              "      display:flex;\n",
              "      gap: 12px;\n",
              "    }\n",
              "\n",
              "    .colab-df-convert {\n",
              "      background-color: #E8F0FE;\n",
              "      border: none;\n",
              "      border-radius: 50%;\n",
              "      cursor: pointer;\n",
              "      display: none;\n",
              "      fill: #1967D2;\n",
              "      height: 32px;\n",
              "      padding: 0 0 0 0;\n",
              "      width: 32px;\n",
              "    }\n",
              "\n",
              "    .colab-df-convert:hover {\n",
              "      background-color: #E2EBFA;\n",
              "      box-shadow: 0px 1px 2px rgba(60, 64, 67, 0.3), 0px 1px 3px 1px rgba(60, 64, 67, 0.15);\n",
              "      fill: #174EA6;\n",
              "    }\n",
              "\n",
              "    .colab-df-buttons div {\n",
              "      margin-bottom: 4px;\n",
              "    }\n",
              "\n",
              "    [theme=dark] .colab-df-convert {\n",
              "      background-color: #3B4455;\n",
              "      fill: #D2E3FC;\n",
              "    }\n",
              "\n",
              "    [theme=dark] .colab-df-convert:hover {\n",
              "      background-color: #434B5C;\n",
              "      box-shadow: 0px 1px 3px 1px rgba(0, 0, 0, 0.15);\n",
              "      filter: drop-shadow(0px 1px 2px rgba(0, 0, 0, 0.3));\n",
              "      fill: #FFFFFF;\n",
              "    }\n",
              "  </style>\n",
              "\n",
              "    <script>\n",
              "      const buttonEl =\n",
              "        document.querySelector('#df-2877dc28-5a8e-4f01-a1ee-d708f5224c6b button.colab-df-convert');\n",
              "      buttonEl.style.display =\n",
              "        google.colab.kernel.accessAllowed ? 'block' : 'none';\n",
              "\n",
              "      async function convertToInteractive(key) {\n",
              "        const element = document.querySelector('#df-2877dc28-5a8e-4f01-a1ee-d708f5224c6b');\n",
              "        const dataTable =\n",
              "          await google.colab.kernel.invokeFunction('convertToInteractive',\n",
              "                                                    [key], {});\n",
              "        if (!dataTable) return;\n",
              "\n",
              "        const docLinkHtml = 'Like what you see? Visit the ' +\n",
              "          '<a target=\"_blank\" href=https://colab.research.google.com/notebooks/data_table.ipynb>data table notebook</a>'\n",
              "          + ' to learn more about interactive tables.';\n",
              "        element.innerHTML = '';\n",
              "        dataTable['output_type'] = 'display_data';\n",
              "        await google.colab.output.renderOutput(dataTable, element);\n",
              "        const docLink = document.createElement('div');\n",
              "        docLink.innerHTML = docLinkHtml;\n",
              "        element.appendChild(docLink);\n",
              "      }\n",
              "    </script>\n",
              "  </div>\n",
              "\n",
              "\n",
              "<div id=\"df-3d292afc-06c0-44e0-af7d-b8569174f6c0\">\n",
              "  <button class=\"colab-df-quickchart\" onclick=\"quickchart('df-3d292afc-06c0-44e0-af7d-b8569174f6c0')\"\n",
              "            title=\"Suggest charts\"\n",
              "            style=\"display:none;\">\n",
              "\n",
              "<svg xmlns=\"http://www.w3.org/2000/svg\" height=\"24px\"viewBox=\"0 0 24 24\"\n",
              "     width=\"24px\">\n",
              "    <g>\n",
              "        <path d=\"M19 3H5c-1.1 0-2 .9-2 2v14c0 1.1.9 2 2 2h14c1.1 0 2-.9 2-2V5c0-1.1-.9-2-2-2zM9 17H7v-7h2v7zm4 0h-2V7h2v10zm4 0h-2v-4h2v4z\"/>\n",
              "    </g>\n",
              "</svg>\n",
              "  </button>\n",
              "\n",
              "<style>\n",
              "  .colab-df-quickchart {\n",
              "      --bg-color: #E8F0FE;\n",
              "      --fill-color: #1967D2;\n",
              "      --hover-bg-color: #E2EBFA;\n",
              "      --hover-fill-color: #174EA6;\n",
              "      --disabled-fill-color: #AAA;\n",
              "      --disabled-bg-color: #DDD;\n",
              "  }\n",
              "\n",
              "  [theme=dark] .colab-df-quickchart {\n",
              "      --bg-color: #3B4455;\n",
              "      --fill-color: #D2E3FC;\n",
              "      --hover-bg-color: #434B5C;\n",
              "      --hover-fill-color: #FFFFFF;\n",
              "      --disabled-bg-color: #3B4455;\n",
              "      --disabled-fill-color: #666;\n",
              "  }\n",
              "\n",
              "  .colab-df-quickchart {\n",
              "    background-color: var(--bg-color);\n",
              "    border: none;\n",
              "    border-radius: 50%;\n",
              "    cursor: pointer;\n",
              "    display: none;\n",
              "    fill: var(--fill-color);\n",
              "    height: 32px;\n",
              "    padding: 0;\n",
              "    width: 32px;\n",
              "  }\n",
              "\n",
              "  .colab-df-quickchart:hover {\n",
              "    background-color: var(--hover-bg-color);\n",
              "    box-shadow: 0 1px 2px rgba(60, 64, 67, 0.3), 0 1px 3px 1px rgba(60, 64, 67, 0.15);\n",
              "    fill: var(--button-hover-fill-color);\n",
              "  }\n",
              "\n",
              "  .colab-df-quickchart-complete:disabled,\n",
              "  .colab-df-quickchart-complete:disabled:hover {\n",
              "    background-color: var(--disabled-bg-color);\n",
              "    fill: var(--disabled-fill-color);\n",
              "    box-shadow: none;\n",
              "  }\n",
              "\n",
              "  .colab-df-spinner {\n",
              "    border: 2px solid var(--fill-color);\n",
              "    border-color: transparent;\n",
              "    border-bottom-color: var(--fill-color);\n",
              "    animation:\n",
              "      spin 1s steps(1) infinite;\n",
              "  }\n",
              "\n",
              "  @keyframes spin {\n",
              "    0% {\n",
              "      border-color: transparent;\n",
              "      border-bottom-color: var(--fill-color);\n",
              "      border-left-color: var(--fill-color);\n",
              "    }\n",
              "    20% {\n",
              "      border-color: transparent;\n",
              "      border-left-color: var(--fill-color);\n",
              "      border-top-color: var(--fill-color);\n",
              "    }\n",
              "    30% {\n",
              "      border-color: transparent;\n",
              "      border-left-color: var(--fill-color);\n",
              "      border-top-color: var(--fill-color);\n",
              "      border-right-color: var(--fill-color);\n",
              "    }\n",
              "    40% {\n",
              "      border-color: transparent;\n",
              "      border-right-color: var(--fill-color);\n",
              "      border-top-color: var(--fill-color);\n",
              "    }\n",
              "    60% {\n",
              "      border-color: transparent;\n",
              "      border-right-color: var(--fill-color);\n",
              "    }\n",
              "    80% {\n",
              "      border-color: transparent;\n",
              "      border-right-color: var(--fill-color);\n",
              "      border-bottom-color: var(--fill-color);\n",
              "    }\n",
              "    90% {\n",
              "      border-color: transparent;\n",
              "      border-bottom-color: var(--fill-color);\n",
              "    }\n",
              "  }\n",
              "</style>\n",
              "\n",
              "  <script>\n",
              "    async function quickchart(key) {\n",
              "      const quickchartButtonEl =\n",
              "        document.querySelector('#' + key + ' button');\n",
              "      quickchartButtonEl.disabled = true;  // To prevent multiple clicks.\n",
              "      quickchartButtonEl.classList.add('colab-df-spinner');\n",
              "      try {\n",
              "        const charts = await google.colab.kernel.invokeFunction(\n",
              "            'suggestCharts', [key], {});\n",
              "      } catch (error) {\n",
              "        console.error('Error during call to suggestCharts:', error);\n",
              "      }\n",
              "      quickchartButtonEl.classList.remove('colab-df-spinner');\n",
              "      quickchartButtonEl.classList.add('colab-df-quickchart-complete');\n",
              "    }\n",
              "    (() => {\n",
              "      let quickchartButtonEl =\n",
              "        document.querySelector('#df-3d292afc-06c0-44e0-af7d-b8569174f6c0 button');\n",
              "      quickchartButtonEl.style.display =\n",
              "        google.colab.kernel.accessAllowed ? 'block' : 'none';\n",
              "    })();\n",
              "  </script>\n",
              "</div>\n",
              "\n",
              "  <div id=\"id_b7bbafc3-af30-4759-ab08-ef71c9dd9953\">\n",
              "    <style>\n",
              "      .colab-df-generate {\n",
              "        background-color: #E8F0FE;\n",
              "        border: none;\n",
              "        border-radius: 50%;\n",
              "        cursor: pointer;\n",
              "        display: none;\n",
              "        fill: #1967D2;\n",
              "        height: 32px;\n",
              "        padding: 0 0 0 0;\n",
              "        width: 32px;\n",
              "      }\n",
              "\n",
              "      .colab-df-generate:hover {\n",
              "        background-color: #E2EBFA;\n",
              "        box-shadow: 0px 1px 2px rgba(60, 64, 67, 0.3), 0px 1px 3px 1px rgba(60, 64, 67, 0.15);\n",
              "        fill: #174EA6;\n",
              "      }\n",
              "\n",
              "      [theme=dark] .colab-df-generate {\n",
              "        background-color: #3B4455;\n",
              "        fill: #D2E3FC;\n",
              "      }\n",
              "\n",
              "      [theme=dark] .colab-df-generate:hover {\n",
              "        background-color: #434B5C;\n",
              "        box-shadow: 0px 1px 3px 1px rgba(0, 0, 0, 0.15);\n",
              "        filter: drop-shadow(0px 1px 2px rgba(0, 0, 0, 0.3));\n",
              "        fill: #FFFFFF;\n",
              "      }\n",
              "    </style>\n",
              "    <button class=\"colab-df-generate\" onclick=\"generateWithVariable('new_df')\"\n",
              "            title=\"Generate code using this dataframe.\"\n",
              "            style=\"display:none;\">\n",
              "\n",
              "  <svg xmlns=\"http://www.w3.org/2000/svg\" height=\"24px\"viewBox=\"0 0 24 24\"\n",
              "       width=\"24px\">\n",
              "    <path d=\"M7,19H8.4L18.45,9,17,7.55,7,17.6ZM5,21V16.75L18.45,3.32a2,2,0,0,1,2.83,0l1.4,1.43a1.91,1.91,0,0,1,.58,1.4,1.91,1.91,0,0,1-.58,1.4L9.25,21ZM18.45,9,17,7.55Zm-12,3A5.31,5.31,0,0,0,4.9,8.1,5.31,5.31,0,0,0,1,6.5,5.31,5.31,0,0,0,4.9,4.9,5.31,5.31,0,0,0,6.5,1,5.31,5.31,0,0,0,8.1,4.9,5.31,5.31,0,0,0,12,6.5,5.46,5.46,0,0,0,6.5,12Z\"/>\n",
              "  </svg>\n",
              "    </button>\n",
              "    <script>\n",
              "      (() => {\n",
              "      const buttonEl =\n",
              "        document.querySelector('#id_b7bbafc3-af30-4759-ab08-ef71c9dd9953 button.colab-df-generate');\n",
              "      buttonEl.style.display =\n",
              "        google.colab.kernel.accessAllowed ? 'block' : 'none';\n",
              "\n",
              "      buttonEl.onclick = () => {\n",
              "        google.colab.notebook.generateWithVariable('new_df');\n",
              "      }\n",
              "      })();\n",
              "    </script>\n",
              "  </div>\n",
              "\n",
              "    </div>\n",
              "  </div>\n"
            ],
            "application/vnd.google.colaboratory.intrinsic+json": {
              "type": "dataframe",
              "variable_name": "new_df",
              "summary": "{\n  \"name\": \"new_df\",\n  \"rows\": 4821,\n  \"fields\": [\n    {\n      \"column\": \"Date\",\n      \"properties\": {\n        \"dtype\": \"date\",\n        \"min\": \"2021-11-05 00:00:00\",\n        \"max\": \"2022-11-15 00:00:00\",\n        \"num_unique_values\": 356,\n        \"samples\": [\n          \"2022-07-29 00:00:00\",\n          \"2022-02-16 00:00:00\",\n          \"2022-08-20 00:00:00\"\n        ],\n        \"semantic_type\": \"\",\n        \"description\": \"\"\n      }\n    },\n    {\n      \"column\": \"Body\",\n      \"properties\": {\n        \"dtype\": \"string\",\n        \"num_unique_values\": 4660,\n        \"samples\": [\n          \"enthusiast continue release new logo bitcoin date   btc community yet come across symbol come close beloved orange  \",\n          \"bitcoin make huge gain thursday friday despite negative cpi datum   look set positive price action short term\",\n          \"brazilian police swoop allege crypto pyramid scheme appear suck top model   soccer player   tune   769 million\"\n        ],\n        \"semantic_type\": \"\",\n        \"description\": \"\"\n      }\n    },\n    {\n      \"column\": \"Sentiment\",\n      \"properties\": {\n        \"dtype\": \"number\",\n        \"std\": 0.19832586455677792,\n        \"min\": -1.0,\n        \"max\": 1.0,\n        \"num_unique_values\": 110,\n        \"samples\": [\n          -0.27,\n          0.21,\n          -1.0\n        ],\n        \"semantic_type\": \"\",\n        \"description\": \"\"\n      }\n    },\n    {\n      \"column\": \"Vector\",\n      \"properties\": {\n        \"dtype\": \"object\",\n        \"semantic_type\": \"\",\n        \"description\": \"\"\n      }\n    }\n  ]\n}"
            }
          },
          "metadata": {},
          "execution_count": 86
        }
      ]
    },
    {
      "cell_type": "markdown",
      "source": [
        "LSTM"
      ],
      "metadata": {
        "id": "Ruf8YSzJy9vu"
      }
    },
    {
      "cell_type": "code",
      "source": [
        "content=df_filtered['Body']\n",
        "polarity=df_filtered['Sentiment']"
      ],
      "metadata": {
        "id": "oWhBOHCny_KI"
      },
      "execution_count": 90,
      "outputs": []
    },
    {
      "cell_type": "code",
      "source": [
        "# Split datasets into training, testing, and validation datasets\n",
        "X_train, X_val_test, y_train, y_val_test = train_test_split(content,\n",
        "                                                            polarity,\n",
        "                                                            random_state=42,\n",
        "                                                            train_size=.8\n",
        "                                                            )\n",
        "\n",
        "X_val, X_test, y_val, y_test = train_test_split(X_val_test,\n",
        "                                                y_val_test,\n",
        "                                                random_state=42,\n",
        "                                                train_size=.5\n",
        "                                                )"
      ],
      "metadata": {
        "id": "hAZsP9qRzO68"
      },
      "execution_count": 92,
      "outputs": []
    },
    {
      "cell_type": "code",
      "source": [
        "# Confirm dataset sizes\n",
        "print('Train: ', len(X_train),len(y_train))\n",
        "print('Test: ', len(X_val),len(y_val))\n",
        "print('Validation: ', len(X_test),len(y_test))"
      ],
      "metadata": {
        "colab": {
          "base_uri": "https://localhost:8080/"
        },
        "id": "V8D9qM4pzSC_",
        "outputId": "42364e47-72a8-45b5-cec8-3ebfba63ffee"
      },
      "execution_count": 93,
      "outputs": [
        {
          "output_type": "stream",
          "name": "stdout",
          "text": [
            "Train:  3056 3056\n",
            "Test:  382 382\n",
            "Validation:  383 383\n"
          ]
        }
      ]
    },
    {
      "cell_type": "code",
      "source": [
        "# Get length of longest tweet\n",
        "max_len = max([len(tweet.split()) for tweet in df_filtered['Body']])\n",
        "print(max_len)"
      ],
      "metadata": {
        "colab": {
          "base_uri": "https://localhost:8080/"
        },
        "id": "WJF3Jjj0zVKE",
        "outputId": "1b99fd18-a003-4e1b-b1d7-a11f06519193"
      },
      "execution_count": 94,
      "outputs": [
        {
          "output_type": "stream",
          "name": "stdout",
          "text": [
            "40\n"
          ]
        }
      ]
    },
    {
      "cell_type": "code",
      "source": [
        "# Train tokeniser on dataset\n",
        "from keras.preprocessing.text import Tokenizer\n",
        "tokeniser=Tokenizer()\n",
        "tokeniser.fit_on_texts(df_filtered['Body'])"
      ],
      "metadata": {
        "id": "JiEtCuETzdiN"
      },
      "execution_count": 95,
      "outputs": []
    },
    {
      "cell_type": "code",
      "source": [
        "# Check how many unique word are in dataset\n",
        "vocab = tokeniser.word_index\n",
        "\n",
        "print(\"{} unique words in the dataset\".format(len(vocab)))"
      ],
      "metadata": {
        "colab": {
          "base_uri": "https://localhost:8080/"
        },
        "id": "fWyGvE5KztIu",
        "outputId": "e37cffb2-dcec-4417-933b-110946b925c3"
      },
      "execution_count": 96,
      "outputs": [
        {
          "output_type": "stream",
          "name": "stdout",
          "text": [
            "7474 unique words in the dataset\n"
          ]
        }
      ]
    },
    {
      "cell_type": "code",
      "source": [
        "y_train = (y_train.to_list())\n",
        "y_val = (y_val.to_list())\n",
        "y_test = (y_test.to_list())"
      ],
      "metadata": {
        "id": "QOxk8R2x0GmR"
      },
      "execution_count": 97,
      "outputs": []
    },
    {
      "cell_type": "code",
      "source": [
        "import numpy as np\n",
        "\n",
        "# Convert y_train to a NumPy array\n",
        "y_train = np.array(y_train)\n",
        "\n",
        "# Reshape y_train\n",
        "y_train = y_train.reshape(-1, 1)\n",
        "\n",
        "# Reshape y_val and y_test\n",
        "y_val = np.array(y_val).reshape(-1, 1)\n",
        "y_test = np.array(y_test).reshape(-1, 1)"
      ],
      "metadata": {
        "id": "Q1-tOl_1zwvt"
      },
      "execution_count": 98,
      "outputs": []
    },
    {
      "cell_type": "code",
      "source": [
        "# Confirm dataset shape\n",
        "\n",
        "print(\"y_train shape:\", y_train.shape)\n",
        "print(\"y_val shape:\", y_val.shape)\n",
        "print(\"y_test shape:\", y_test.shape)"
      ],
      "metadata": {
        "colab": {
          "base_uri": "https://localhost:8080/"
        },
        "id": "SBMxXfqv0Zh-",
        "outputId": "374a3b1b-f5d9-4e04-ab38-4d6d572fa0d3"
      },
      "execution_count": 60,
      "outputs": [
        {
          "output_type": "stream",
          "name": "stdout",
          "text": [
            "y_train shape: (3856, 1)\n",
            "y_val shape: (482, 1)\n",
            "y_test shape: (483, 1)\n"
          ]
        }
      ]
    },
    {
      "cell_type": "code",
      "source": [
        "# Pad training, valdiation and testing datasets\n",
        "from keras.utils import pad_sequences\n",
        "X_train = pad_sequences(tokeniser.texts_to_sequences(X_train), maxlen = max_len)\n",
        "\n",
        "X_val = pad_sequences(tokeniser.texts_to_sequences(X_val), maxlen = max_len)\n",
        "\n",
        "X_test = pad_sequences(tokeniser.texts_to_sequences(X_test), maxlen = max_len)\n",
        "\n",
        "print(\"X_train shape: \", X_train.shape)\n",
        "print(\"X_val shape: \", X_val.shape)\n",
        "print(\"X_test shape: \", X_test.shape)"
      ],
      "metadata": {
        "colab": {
          "base_uri": "https://localhost:8080/"
        },
        "id": "NLUeZ7dg0dcg",
        "outputId": "ad873bf2-ec14-4be7-ec2a-b204373ee9ab"
      },
      "execution_count": 99,
      "outputs": [
        {
          "output_type": "stream",
          "name": "stdout",
          "text": [
            "X_train shape:  (3056, 40)\n",
            "X_val shape:  (382, 40)\n",
            "X_test shape:  (383, 40)\n"
          ]
        }
      ]
    },
    {
      "cell_type": "code",
      "source": [
        "from google.colab import drive\n",
        "drive.mount('/content/drive')"
      ],
      "metadata": {
        "colab": {
          "base_uri": "https://localhost:8080/"
        },
        "id": "y72FuiN-55_V",
        "outputId": "d1de942d-7b74-4136-d120-2b9da424157b"
      },
      "execution_count": 69,
      "outputs": [
        {
          "output_type": "stream",
          "name": "stdout",
          "text": [
            "Mounted at /content/drive\n"
          ]
        }
      ]
    },
    {
      "cell_type": "code",
      "source": [
        "# Load gloVe pretrained embedding layer\n",
        "\n",
        "from numpy import zeros, asarray\n",
        "\n",
        "path = '/content/drive/My Drive/glove.twitter.27B.100d.txt'\n",
        "glove_dimentions = 100\n",
        "\n",
        "f = open(path,'r',encoding=\"utf-8\")\n",
        "glove = f.readlines()\n",
        "f.close()"
      ],
      "metadata": {
        "id": "7ywFrbwq-ELm"
      },
      "execution_count": 100,
      "outputs": []
    },
    {
      "cell_type": "code",
      "source": [
        "embedding = dict()\n",
        "for line in glove:\n",
        "    parts = line.split()\n",
        "    embedding[parts[0]] = asarray(parts[1:], dtype='float32')\n",
        "\n",
        "vocab_size = len(vocab) + 1\n",
        "embedding_matrix = zeros((vocab_size, glove_dimentions))\n",
        "\n",
        "for word, i in vocab.items():\n",
        "        vector = embedding.get(word)\n",
        "        if vector is not None:\n",
        "            embedding_matrix[i] = vector"
      ],
      "metadata": {
        "id": "qQ4Llojc0nF7"
      },
      "execution_count": 101,
      "outputs": []
    },
    {
      "cell_type": "code",
      "source": [
        "# Define LTSM model\n",
        "from keras import layers\n",
        "def create_lstm():\n",
        "  model=Sequential()\n",
        "\n",
        "  model.add(layers.Embedding(vocab_size,\n",
        "                            glove_dimentions,\n",
        "                            weights = [embedding_matrix],\n",
        "                            input_length = max_len,\n",
        "                            trainable = False))\n",
        "\n",
        "  model.add(layers.Bidirectional(layers.LSTM(128, dropout = 0.2)))\n",
        "\n",
        "  model.add(layers.Dense(1, activation = \"tanh\"))\n",
        "\n",
        "  print(model.summary())\n",
        "\n",
        "  return model"
      ],
      "metadata": {
        "id": "v68IZt_l-yPt"
      },
      "execution_count": 102,
      "outputs": []
    },
    {
      "cell_type": "code",
      "source": [
        "from keras.callbacks import ReduceLROnPlateau\n",
        "from keras import optimizers\n",
        "from tensorflow.keras.models import Sequential\n",
        "# Define LTSM hyperparameters\n",
        "ltsm_model = create_lstm()  # Assuming you've defined create_lstm() to create the LSTM model\n",
        "BATCH_SIZE = 128\n",
        "EPOCHS = 15\n",
        "LR = 0.001\n",
        "optimizer = optimizers.Adam(lr=LR)\n",
        "\n",
        "# Compile and train LTSM model\n",
        "ltsm_model.compile(optimizer=optimizer, loss='mse', metrics=['mae'])\n",
        "\n",
        "reduce_lr = ReduceLROnPlateau(monitor='val_loss',\n",
        "                              factor=0.1,\n",
        "                              patience=3,\n",
        "                              min_lr=0.0001)\n",
        "\n",
        "# Train the model\n",
        "history = ltsm_model.fit(X_train,\n",
        "                         y_train,\n",
        "                         batch_size=BATCH_SIZE,\n",
        "                         validation_data=(X_val, y_val),\n",
        "                         epochs=EPOCHS,\n",
        "                         verbose=1,\n",
        "                         callbacks=[reduce_lr]\n",
        "                         )\n"
      ],
      "metadata": {
        "colab": {
          "base_uri": "https://localhost:8080/"
        },
        "id": "598s8oP3_d-E",
        "outputId": "0c184578-81ba-486e-be89-465dbb5506e0"
      },
      "execution_count": 103,
      "outputs": [
        {
          "output_type": "stream",
          "name": "stdout",
          "text": [
            "Model: \"sequential_2\"\n",
            "_________________________________________________________________\n",
            " Layer (type)                Output Shape              Param #   \n",
            "=================================================================\n",
            " embedding_1 (Embedding)     (None, 40, 100)           747500    \n",
            "                                                                 \n",
            " bidirectional_1 (Bidirecti  (None, 256)               234496    \n",
            " onal)                                                           \n",
            "                                                                 \n",
            " dense_1 (Dense)             (None, 1)                 257       \n",
            "                                                                 \n",
            "=================================================================\n",
            "Total params: 982253 (3.75 MB)\n",
            "Trainable params: 234753 (917.00 KB)\n",
            "Non-trainable params: 747500 (2.85 MB)\n",
            "_________________________________________________________________\n"
          ]
        },
        {
          "output_type": "stream",
          "name": "stderr",
          "text": [
            "WARNING:absl:`lr` is deprecated in Keras optimizer, please use `learning_rate` or use the legacy optimizer, e.g.,tf.keras.optimizers.legacy.Adam.\n"
          ]
        },
        {
          "output_type": "stream",
          "name": "stdout",
          "text": [
            "None\n",
            "Epoch 1/15\n",
            "24/24 [==============================] - 18s 507ms/step - loss: 0.0545 - mae: 0.1710 - val_loss: 0.0604 - val_mae: 0.1726 - lr: 0.0010\n",
            "Epoch 2/15\n",
            "24/24 [==============================] - 8s 315ms/step - loss: 0.0485 - mae: 0.1599 - val_loss: 0.0612 - val_mae: 0.1740 - lr: 0.0010\n",
            "Epoch 3/15\n",
            "24/24 [==============================] - 9s 392ms/step - loss: 0.0464 - mae: 0.1554 - val_loss: 0.0608 - val_mae: 0.1803 - lr: 0.0010\n",
            "Epoch 4/15\n",
            "24/24 [==============================] - 7s 309ms/step - loss: 0.0454 - mae: 0.1544 - val_loss: 0.0623 - val_mae: 0.1856 - lr: 0.0010\n",
            "Epoch 5/15\n",
            "24/24 [==============================] - 10s 411ms/step - loss: 0.0431 - mae: 0.1514 - val_loss: 0.0610 - val_mae: 0.1786 - lr: 1.0000e-04\n",
            "Epoch 6/15\n",
            "24/24 [==============================] - 8s 355ms/step - loss: 0.0428 - mae: 0.1500 - val_loss: 0.0612 - val_mae: 0.1820 - lr: 1.0000e-04\n",
            "Epoch 7/15\n",
            "24/24 [==============================] - 8s 334ms/step - loss: 0.0427 - mae: 0.1501 - val_loss: 0.0610 - val_mae: 0.1787 - lr: 1.0000e-04\n",
            "Epoch 8/15\n",
            "24/24 [==============================] - 10s 407ms/step - loss: 0.0424 - mae: 0.1502 - val_loss: 0.0612 - val_mae: 0.1809 - lr: 1.0000e-04\n",
            "Epoch 9/15\n",
            "24/24 [==============================] - 8s 317ms/step - loss: 0.0422 - mae: 0.1500 - val_loss: 0.0611 - val_mae: 0.1798 - lr: 1.0000e-04\n",
            "Epoch 10/15\n",
            "24/24 [==============================] - 9s 389ms/step - loss: 0.0419 - mae: 0.1491 - val_loss: 0.0621 - val_mae: 0.1834 - lr: 1.0000e-04\n",
            "Epoch 11/15\n",
            "24/24 [==============================] - 9s 360ms/step - loss: 0.0417 - mae: 0.1482 - val_loss: 0.0620 - val_mae: 0.1836 - lr: 1.0000e-04\n",
            "Epoch 12/15\n",
            "24/24 [==============================] - 8s 344ms/step - loss: 0.0417 - mae: 0.1492 - val_loss: 0.0618 - val_mae: 0.1817 - lr: 1.0000e-04\n",
            "Epoch 13/15\n",
            "24/24 [==============================] - 10s 408ms/step - loss: 0.0415 - mae: 0.1485 - val_loss: 0.0621 - val_mae: 0.1826 - lr: 1.0000e-04\n",
            "Epoch 14/15\n",
            "24/24 [==============================] - 7s 312ms/step - loss: 0.0412 - mae: 0.1474 - val_loss: 0.0621 - val_mae: 0.1805 - lr: 1.0000e-04\n",
            "Epoch 15/15\n",
            "24/24 [==============================] - 9s 391ms/step - loss: 0.0409 - mae: 0.1472 - val_loss: 0.0618 - val_mae: 0.1808 - lr: 1.0000e-04\n"
          ]
        }
      ]
    },
    {
      "cell_type": "code",
      "source": [
        "# Evaluate the model on the test dataset\n",
        "test_loss, test_mae = ltsm_model.evaluate(X_test, y_test)\n",
        "\n",
        "print(\"Test Loss:\", test_loss)\n",
        "print(\"Test MAE:\", test_mae)"
      ],
      "metadata": {
        "colab": {
          "base_uri": "https://localhost:8080/"
        },
        "id": "cRLXRm-FB_oI",
        "outputId": "a383b577-81d1-40ae-fdff-492e6224644a"
      },
      "execution_count": 104,
      "outputs": [
        {
          "output_type": "stream",
          "name": "stdout",
          "text": [
            "12/12 [==============================] - 1s 54ms/step - loss: 0.0462 - mae: 0.1604\n",
            "Test Loss: 0.046220384538173676\n",
            "Test MAE: 0.1604001671075821\n"
          ]
        }
      ]
    },
    {
      "cell_type": "code",
      "source": [
        "y_pred = ltsm_model.predict(X_test)"
      ],
      "metadata": {
        "colab": {
          "base_uri": "https://localhost:8080/"
        },
        "id": "ao1YBRNiCKCs",
        "outputId": "d715c6f1-62e4-47f7-e660-912b09dfab0e"
      },
      "execution_count": 105,
      "outputs": [
        {
          "output_type": "stream",
          "name": "stdout",
          "text": [
            "12/12 [==============================] - 2s 52ms/step\n"
          ]
        }
      ]
    },
    {
      "cell_type": "code",
      "source": [
        "for i in range(0, len(y_pred)):\n",
        "  print(y_pred[i], y_test[i], sep=',')"
      ],
      "metadata": {
        "colab": {
          "base_uri": "https://localhost:8080/"
        },
        "id": "HryEGHrVCMWZ",
        "outputId": "0263d57c-3d08-4869-b551-394ee31d5776"
      },
      "execution_count": 106,
      "outputs": [
        {
          "output_type": "stream",
          "name": "stdout",
          "text": [
            "[0.03962394],[-0.1]\n",
            "[0.06885925],[-0.3]\n",
            "[0.01603856],[0.2]\n",
            "[0.11224209],[-0.04]\n",
            "[0.05626443],[0.5]\n",
            "[0.03455],[-0.16]\n",
            "[0.12278743],[0.02]\n",
            "[0.02118083],[0.]\n",
            "[-0.01486312],[0.12]\n",
            "[0.03548441],[-0.16]\n",
            "[0.08392951],[0.5]\n",
            "[0.06145834],[-0.1]\n",
            "[0.13486342],[0.12]\n",
            "[0.05387289],[-0.5]\n",
            "[0.08252803],[0.]\n",
            "[0.1634732],[0.]\n",
            "[0.05729139],[-0.12]\n",
            "[0.08092886],[0.18]\n",
            "[0.04630994],[-0.07]\n",
            "[0.1134074],[0.11]\n",
            "[-0.00186416],[0.5]\n",
            "[0.07129033],[0.14]\n",
            "[0.04675106],[0.]\n",
            "[0.05113806],[0.5]\n",
            "[0.06970133],[-0.05]\n",
            "[0.09178326],[0.12]\n",
            "[0.03610082],[0.]\n",
            "[0.04343166],[0.25]\n",
            "[0.1238122],[0.]\n",
            "[-0.00281525],[0.16]\n",
            "[0.0743872],[0.5]\n",
            "[0.07071413],[0.2]\n",
            "[0.05891702],[0.03]\n",
            "[0.03886355],[0.]\n",
            "[0.08799911],[0.5]\n",
            "[-0.02552782],[0.25]\n",
            "[-0.005136],[0.]\n",
            "[0.13224453],[-0.35]\n",
            "[0.09960551],[-0.16]\n",
            "[0.05637221],[0.25]\n",
            "[0.0837209],[0.07]\n",
            "[0.04687933],[0.25]\n",
            "[-0.01449213],[-0.16]\n",
            "[0.10862311],[0.38]\n",
            "[0.08609894],[0.5]\n",
            "[0.07129033],[0.06]\n",
            "[0.12248357],[0.17]\n",
            "[0.00349617],[0.12]\n",
            "[0.00487953],[0.1]\n",
            "[0.06176195],[0.]\n",
            "[-0.01339698],[-0.05]\n",
            "[0.11618293],[-0.12]\n",
            "[0.03271245],[0.05]\n",
            "[0.04819201],[-0.13]\n",
            "[0.16241245],[0.]\n",
            "[0.12810558],[-0.11]\n",
            "[0.11805604],[-0.2]\n",
            "[0.07286083],[0.12]\n",
            "[0.12947251],[-0.43]\n",
            "[0.06182606],[-0.1]\n",
            "[0.07129033],[0.2]\n",
            "[0.0807429],[0.]\n",
            "[0.06681404],[-0.19]\n",
            "[0.12010147],[0.1]\n",
            "[0.07129033],[0.1]\n",
            "[0.03761293],[0.]\n",
            "[0.05592825],[0.22]\n",
            "[0.04534379],[0.23]\n",
            "[0.08663792],[0.1]\n",
            "[0.13913882],[0.]\n",
            "[0.05667717],[0.1]\n",
            "[0.00997988],[0.1]\n",
            "[0.05708543],[0.05]\n",
            "[0.17466904],[-0.11]\n",
            "[0.04013127],[0.1]\n",
            "[0.15336868],[-0.5]\n",
            "[0.16092782],[0.25]\n",
            "[0.06593124],[-0.15]\n",
            "[0.02984856],[0.1]\n",
            "[0.15764955],[-0.16]\n",
            "[0.07129033],[0.]\n",
            "[0.11336057],[0.27]\n",
            "[0.15694652],[0.11]\n",
            "[0.07969536],[0.19]\n",
            "[0.09406313],[-0.1]\n",
            "[0.10834564],[0.25]\n",
            "[0.07536673],[0.03]\n",
            "[0.02835733],[0.15]\n",
            "[0.09691572],[0.22]\n",
            "[0.07129033],[0.1]\n",
            "[0.09999673],[0.]\n",
            "[0.07129033],[0.85]\n",
            "[0.20003171],[0.]\n",
            "[0.09810445],[0.11]\n",
            "[0.02878651],[0.17]\n",
            "[-0.00621528],[0.]\n",
            "[-0.00360589],[0.5]\n",
            "[0.16061108],[0.5]\n",
            "[0.1183843],[0.]\n",
            "[0.12001921],[0.08]\n",
            "[0.00696701],[0.17]\n",
            "[0.00032948],[0.06]\n",
            "[0.0550167],[-0.25]\n",
            "[0.02848819],[0.5]\n",
            "[0.04797909],[0.]\n",
            "[0.06010767],[-0.18]\n",
            "[0.04147325],[0.5]\n",
            "[0.03322534],[0.19]\n",
            "[0.10507292],[0.14]\n",
            "[0.00300914],[0.3]\n",
            "[0.03571743],[0.25]\n",
            "[0.11564727],[0.]\n",
            "[0.11015858],[0.]\n",
            "[0.12942098],[0.]\n",
            "[0.00594196],[0.]\n",
            "[0.138186],[-0.15]\n",
            "[0.10201228],[0.]\n",
            "[0.11759148],[-0.1]\n",
            "[0.11168121],[0.5]\n",
            "[0.03043778],[0.12]\n",
            "[-0.00492552],[-0.04]\n",
            "[0.01660381],[0.]\n",
            "[0.08182683],[-0.16]\n",
            "[0.14140432],[0.14]\n",
            "[0.03909382],[0.08]\n",
            "[0.09051146],[0.]\n",
            "[0.06762949],[0.09]\n",
            "[0.05342669],[0.2]\n",
            "[0.09242792],[0.05]\n",
            "[0.13092577],[0.05]\n",
            "[0.07129033],[0.37]\n",
            "[0.06860798],[-0.1]\n",
            "[0.16951182],[0.11]\n",
            "[0.01905073],[0.33]\n",
            "[0.07340888],[0.]\n",
            "[0.06859175],[0.53]\n",
            "[0.10923862],[-0.12]\n",
            "[0.1070912],[0.]\n",
            "[0.07584621],[-0.2]\n",
            "[0.0565734],[-0.3]\n",
            "[0.07565495],[-0.06]\n",
            "[0.08957802],[0.38]\n",
            "[0.09520414],[0.3]\n",
            "[0.07809136],[-0.1]\n",
            "[0.05630886],[-0.26]\n",
            "[-0.0460761],[0.6]\n",
            "[0.06540357],[-0.07]\n",
            "[0.02351469],[0.11]\n",
            "[-0.01616376],[0.]\n",
            "[-0.0223432],[0.]\n",
            "[0.16527152],[-0.06]\n",
            "[0.10655261],[-0.19]\n",
            "[0.07151095],[-0.06]\n",
            "[0.0937731],[0.]\n",
            "[0.11528061],[0.]\n",
            "[0.02266383],[0.25]\n",
            "[0.05276558],[-0.12]\n",
            "[0.04345205],[0.]\n",
            "[0.10178212],[-0.53]\n",
            "[0.07160213],[-0.06]\n",
            "[0.05016893],[-0.06]\n",
            "[0.08393948],[-0.11]\n",
            "[0.08043103],[0.07]\n",
            "[0.01357085],[0.3]\n",
            "[0.01852771],[-0.1]\n",
            "[0.01431198],[0.05]\n",
            "[0.05562474],[0.07]\n",
            "[0.06246243],[0.17]\n",
            "[0.12300091],[0.25]\n",
            "[0.0498212],[0.]\n",
            "[0.07311588],[-0.1]\n",
            "[0.06614608],[0.42]\n",
            "[0.09650509],[-0.03]\n",
            "[0.1146992],[0.5]\n",
            "[0.05786126],[0.31]\n",
            "[0.02249256],[0.2]\n",
            "[0.03847562],[0.03]\n",
            "[0.15119953],[0.]\n",
            "[0.09373093],[-0.01]\n",
            "[-0.00100595],[0.07]\n",
            "[0.07136499],[-0.05]\n",
            "[0.1186346],[0.]\n",
            "[0.16518614],[0.13]\n",
            "[0.0235367],[0.1]\n",
            "[0.10483167],[0.25]\n",
            "[0.02660884],[0.05]\n",
            "[0.12209418],[0.04]\n",
            "[0.07485586],[0.6]\n",
            "[0.14401875],[0.2]\n",
            "[0.06212557],[0.13]\n",
            "[0.02632523],[0.07]\n",
            "[0.01720972],[0.15]\n",
            "[0.17594624],[-0.17]\n",
            "[0.11149861],[0.38]\n",
            "[0.00291101],[0.]\n",
            "[0.06938262],[0.1]\n",
            "[0.05232399],[-0.05]\n",
            "[0.10906006],[0.05]\n",
            "[-0.02925943],[0.26]\n",
            "[0.09824235],[0.16]\n",
            "[0.08058255],[0.24]\n",
            "[0.0454143],[0.03]\n",
            "[0.08074311],[0.14]\n",
            "[0.1207651],[0.05]\n",
            "[0.21873473],[0.5]\n",
            "[0.08517556],[-0.06]\n",
            "[0.07216068],[0.1]\n",
            "[0.12482489],[0.1]\n",
            "[0.10556295],[-0.27]\n",
            "[0.11869549],[0.14]\n",
            "[0.12961362],[-0.06]\n",
            "[0.04496337],[0.16]\n",
            "[0.06745043],[-0.12]\n",
            "[0.13244624],[-0.17]\n",
            "[0.05415274],[-0.5]\n",
            "[0.12204129],[0.3]\n",
            "[0.12886643],[0.03]\n",
            "[0.05139948],[-0.03]\n",
            "[0.05633616],[-0.05]\n",
            "[-0.03287135],[-0.12]\n",
            "[0.09622496],[0.]\n",
            "[0.03405997],[-0.33]\n",
            "[0.14642826],[-0.2]\n",
            "[0.06211124],[0.23]\n",
            "[0.00669674],[0.18]\n",
            "[0.0107549],[0.05]\n",
            "[0.01523673],[0.14]\n",
            "[-0.02051015],[0.]\n",
            "[0.13742898],[-0.2]\n",
            "[0.11910597],[0.]\n",
            "[0.00194767],[0.]\n",
            "[-0.02699023],[0.05]\n",
            "[0.11450326],[0.]\n",
            "[0.11463749],[0.]\n",
            "[-0.0426857],[0.]\n",
            "[0.03838151],[0.22]\n",
            "[0.16710159],[0.13]\n",
            "[0.00239117],[-0.19]\n",
            "[0.01073425],[-0.03]\n",
            "[0.09351685],[-0.13]\n",
            "[0.07695665],[0.3]\n",
            "[0.0515263],[-0.28]\n",
            "[0.07812831],[0.45]\n",
            "[0.07129033],[-0.5]\n",
            "[0.07129033],[0.3]\n",
            "[-0.04737009],[0.25]\n",
            "[0.10248693],[0.07]\n",
            "[0.09453341],[0.32]\n",
            "[0.02225967],[0.]\n",
            "[0.09596413],[0.14]\n",
            "[0.09228264],[0.02]\n",
            "[0.04125701],[0.1]\n",
            "[0.08884719],[-0.07]\n",
            "[0.10879935],[-0.16]\n",
            "[0.07898942],[-0.5]\n",
            "[0.07129034],[0.6]\n",
            "[-0.00648019],[-0.12]\n",
            "[-0.01825665],[0.]\n",
            "[0.03761486],[-0.19]\n",
            "[0.09761853],[0.]\n",
            "[0.16384901],[0.14]\n",
            "[0.07129033],[-0.12]\n",
            "[0.02660427],[0.03]\n",
            "[0.10492472],[0.]\n",
            "[0.01454816],[-0.13]\n",
            "[-0.03775628],[0.13]\n",
            "[0.13148661],[-0.08]\n",
            "[0.05197285],[-0.16]\n",
            "[0.08024255],[0.25]\n",
            "[-0.03445288],[0.2]\n",
            "[-0.08899543],[0.]\n",
            "[-0.01253684],[-0.4]\n",
            "[0.08137909],[0.25]\n",
            "[0.08016985],[0.09]\n",
            "[0.12630963],[-0.1]\n",
            "[0.02039252],[0.08]\n",
            "[0.04117412],[0.17]\n",
            "[0.04803139],[0.]\n",
            "[0.05251601],[0.06]\n",
            "[0.07625988],[-0.15]\n",
            "[0.0473913],[0.14]\n",
            "[0.06989495],[-0.12]\n",
            "[0.11291868],[0.06]\n",
            "[0.06030888],[0.]\n",
            "[0.07129033],[-0.05]\n",
            "[0.12505637],[0.25]\n",
            "[0.03108205],[-0.03]\n",
            "[0.0380495],[0.09]\n",
            "[0.09278234],[0.]\n",
            "[0.05827894],[0.]\n",
            "[0.0669517],[-0.07]\n",
            "[0.04543215],[0.38]\n",
            "[0.05096789],[0.23]\n",
            "[-0.03879283],[0.09]\n",
            "[0.04517673],[0.14]\n",
            "[0.06535129],[0.17]\n",
            "[0.12698483],[0.62]\n",
            "[0.08202076],[-0.06]\n",
            "[0.12486012],[-0.1]\n",
            "[-0.00011063],[0.]\n",
            "[0.01466982],[0.25]\n",
            "[0.06293205],[0.]\n",
            "[0.01067441],[0.]\n",
            "[0.04948408],[0.21]\n",
            "[0.11024045],[0.17]\n",
            "[0.07129033],[0.2]\n",
            "[0.0362023],[-0.1]\n",
            "[0.03478694],[-0.2]\n",
            "[-0.00401069],[-0.01]\n",
            "[0.08411245],[0.11]\n",
            "[0.10144772],[0.09]\n",
            "[0.07357861],[0.27]\n",
            "[0.12968142],[0.18]\n",
            "[0.13168009],[-0.03]\n",
            "[0.05370659],[0.16]\n",
            "[0.07087255],[0.]\n",
            "[0.02081926],[-0.03]\n",
            "[0.06765937],[0.25]\n",
            "[0.05494529],[0.12]\n",
            "[0.00072826],[0.]\n",
            "[0.17548728],[-0.13]\n",
            "[0.04596132],[0.15]\n",
            "[0.03827371],[0.21]\n",
            "[0.07203098],[0.7]\n",
            "[0.09662908],[0.25]\n",
            "[0.12283263],[0.12]\n",
            "[-0.05225552],[0.]\n",
            "[0.07053762],[0.]\n",
            "[0.07883072],[0.]\n",
            "[0.082854],[0.11]\n",
            "[0.08592276],[-0.5]\n",
            "[0.05964383],[0.]\n",
            "[0.07129033],[0.07]\n",
            "[0.03668897],[0.]\n",
            "[-0.0897084],[0.16]\n",
            "[-0.15152322],[0.12]\n",
            "[0.07828503],[0.21]\n",
            "[-0.03688469],[-0.05]\n",
            "[0.1054157],[-0.25]\n",
            "[0.09956059],[0.]\n",
            "[0.12109082],[0.16]\n",
            "[0.04884598],[0.32]\n",
            "[0.06678718],[0.33]\n",
            "[0.0353369],[0.]\n",
            "[0.08718079],[-0.02]\n",
            "[0.11739657],[0.]\n",
            "[0.10604574],[0.5]\n",
            "[0.08812634],[0.]\n",
            "[0.07174803],[0.06]\n",
            "[0.09642251],[0.08]\n",
            "[0.12022248],[-0.05]\n",
            "[0.11684272],[0.27]\n",
            "[0.03220617],[-0.25]\n",
            "[-0.00962762],[0.]\n",
            "[0.07428642],[0.]\n",
            "[0.04546715],[0.6]\n",
            "[0.04455046],[0.28]\n",
            "[0.04390008],[0.03]\n",
            "[0.06826173],[0.14]\n",
            "[0.07467815],[0.25]\n",
            "[0.0540166],[0.1]\n",
            "[0.12093531],[0.33]\n",
            "[0.08293121],[0.04]\n",
            "[0.07469899],[0.]\n",
            "[0.01236291],[0.]\n",
            "[0.08029987],[0.5]\n",
            "[0.05779732],[-0.18]\n",
            "[0.01522878],[0.]\n",
            "[0.0123229],[0.05]\n",
            "[0.07290476],[0.]\n",
            "[0.01719597],[-0.07]\n",
            "[-0.01555025],[0.]\n",
            "[0.0654442],[0.]\n",
            "[0.16957939],[-0.05]\n",
            "[0.13839388],[0.06]\n",
            "[0.08672098],[0.03]\n",
            "[0.17142016],[0.2]\n",
            "[0.07129033],[-0.17]\n",
            "[0.11974293],[-0.08]\n",
            "[-0.04671685],[0.5]\n",
            "[0.07807222],[0.55]\n",
            "[0.09554888],[0.]\n",
            "[0.07052875],[0.]\n"
          ]
        }
      ]
    },
    {
      "cell_type": "code",
      "source": [
        "count = 0\n",
        "for i in range(0,len(df['Body'])):\n",
        "  if(df['Sentiment'].iloc[i] == 0):\n",
        "    count += 1\n",
        "\n",
        "print(count)"
      ],
      "metadata": {
        "colab": {
          "base_uri": "https://localhost:8080/"
        },
        "id": "hhCYI_o5ZmF2",
        "outputId": "4efa0219-05f3-444e-a438-e3a3d26364f5"
      },
      "execution_count": 19,
      "outputs": [
        {
          "output_type": "stream",
          "name": "stdout",
          "text": [
            "1703\n"
          ]
        }
      ]
    },
    {
      "cell_type": "code",
      "source": [
        "# Plotting sentiment values\n",
        "plt.figure(figsize=(10, 6))\n",
        "plt.plot(new_df.index, new_df['Sentiment'], marker='o', linestyle='-')\n",
        "plt.xlabel('Index')\n",
        "plt.ylabel('Sentiment')\n",
        "plt.grid(True)\n",
        "plt.show()"
      ],
      "metadata": {
        "colab": {
          "base_uri": "https://localhost:8080/",
          "height": 542
        },
        "id": "ZixTCdf50SJy",
        "outputId": "42b29772-6257-4de4-a430-9bce3a48c03d"
      },
      "execution_count": 21,
      "outputs": [
        {
          "output_type": "display_data",
          "data": {
            "text/plain": [
              "<Figure size 1000x600 with 1 Axes>"
            ],
            "image/png": "[encoded data removed]"
          },
          "metadata": {}
        }
      ]
    },
    {
      "cell_type": "markdown",
      "source": [
        "Converting text to vectors(using word embeddings)\n"
      ],
      "metadata": {
        "id": "vDlmIPOb1LGo"
      }
    },
    {
      "cell_type": "code",
      "source": [
        "import gensim.downloader as api\n",
        "path = api.load(\"word2vec-google-news-300\", return_path=True)\n",
        "print(path)"
      ],
      "metadata": {
        "colab": {
          "base_uri": "https://localhost:8080/"
        },
        "id": "G74CHikv1kBg",
        "outputId": "f0bfbace-8e1a-491d-aa97-199fe48b8060"
      },
      "execution_count": 23,
      "outputs": [
        {
          "output_type": "stream",
          "name": "stdout",
          "text": [
            "[==================================================] 100.0% 1662.8/1662.8MB downloaded\n",
            "/root/gensim-data/word2vec-google-news-300/word2vec-google-news-300.gz\n"
          ]
        }
      ]
    },
    {
      "cell_type": "code",
      "source": [
        "# Load the pre-trained word embeddings model\n",
        "word_vectors = KeyedVectors.load_word2vec_format('/root/gensim-data/word2vec-google-news-300/word2vec-google-news-300.gz', binary=True)"
      ],
      "metadata": {
        "id": "eKlMs5LI1R2I"
      },
      "execution_count": 24,
      "outputs": []
    },
    {
      "cell_type": "code",
      "source": [
        "# Function to convert text into word embeddings\n",
        "def text_to_vector(text):\n",
        "    words = simple_preprocess(text)  # Tokenize the text\n",
        "    vector = [word_vectors[word] for word in words if word in word_vectors]  # Convert each word to its embedding vector\n",
        "    if vector:\n",
        "        return sum(vector) / len(vector)  # Return the average vector of all word vectors\n",
        "    else:\n",
        "        return [0] * 300  # Return a zero vector if no word in the text is found in the word embeddings model"
      ],
      "metadata": {
        "id": "7l_mjfvr4nHA"
      },
      "execution_count": 25,
      "outputs": []
    },
    {
      "cell_type": "code",
      "source": [
        "# Apply the function to the 'Body' column to get word embeddings for each text\n",
        "new_df['Vector'] = new_df['Body'].apply(text_to_vector)"
      ],
      "metadata": {
        "id": "4XWZR1d21NbC"
      },
      "execution_count": 30,
      "outputs": []
    },
    {
      "cell_type": "markdown",
      "source": [
        "Model Training"
      ],
      "metadata": {
        "id": "iaZ9vqV_DMWn"
      }
    },
    {
      "cell_type": "code",
      "source": [
        "# Split the data into training and testing sets\n",
        "X = np.array(df['Vector'].tolist())\n",
        "y = np.array(df['Sentiment'].tolist())\n",
        "\n",
        "# Normalize the target variable to the range [-1, 1]\n",
        "y_normalized = 2 * ((y - min(y)) / (max(y) - min(y))) - 1\n",
        "\n",
        "X_train, X_test, y_train, y_test = train_test_split(X, y_normalized, test_size=0.2, random_state=42)"
      ],
      "metadata": {
        "id": "p7i1WhzM5LUs"
      },
      "execution_count": null,
      "outputs": []
    },
    {
      "cell_type": "code",
      "source": [
        "# Standardize the input features\n",
        "scaler = StandardScaler()\n",
        "X_train_scaled = scaler.fit_transform(X_train)\n",
        "X_test_scaled = scaler.transform(X_test)"
      ],
      "metadata": {
        "id": "GPq7hQg_8eAF"
      },
      "execution_count": null,
      "outputs": []
    },
    {
      "cell_type": "code",
      "source": [
        "# Linear Regression\n",
        "linear_reg = LinearRegression()\n",
        "linear_reg.fit(X_train_scaled, y_train)\n",
        "linear_reg_pred = linear_reg.predict(X_test_scaled)\n",
        "linear_reg_mse = mean_squared_error(y_test, linear_reg_pred)\n",
        "print(\"Linear Regression MSE:\", linear_reg_mse)"
      ],
      "metadata": {
        "colab": {
          "base_uri": "https://localhost:8080/"
        },
        "id": "LjU0jZxm5fwO",
        "outputId": "4e88c9d5-e427-4921-8c24-635691665e3e"
      },
      "execution_count": null,
      "outputs": [
        {
          "output_type": "stream",
          "name": "stdout",
          "text": [
            "Linear Regression MSE: 0.04499788916188058\n"
          ]
        }
      ]
    },
    {
      "cell_type": "code",
      "source": [
        "# Support Vector Regression (SVR)\n",
        "svr = SVR()\n",
        "svr.fit(X_train, y_train)\n",
        "svr_pred = svr.predict(X_test)\n",
        "svr_mse = mean_squared_error(y_test, svr_pred)\n",
        "print(\"SVR MSE:\", svr_mse)\n"
      ],
      "metadata": {
        "colab": {
          "base_uri": "https://localhost:8080/"
        },
        "id": "4pUjAQXn5jVD",
        "outputId": "08d1b07f-46fc-4d9f-dd8e-8031dee9ca90"
      },
      "execution_count": null,
      "outputs": [
        {
          "output_type": "stream",
          "name": "stdout",
          "text": [
            "SVR MSE: 0.04766568730738175\n"
          ]
        }
      ]
    },
    {
      "cell_type": "code",
      "source": [
        "# Random Forest Regression\n",
        "random_forest = RandomForestRegressor()\n",
        "random_forest.fit(X_train, y_train)\n",
        "random_forest_pred = random_forest.predict(X_test)\n",
        "random_forest_mse = mean_squared_error(y_test, random_forest_pred)\n",
        "print(\"Random Forest Regression MSE:\", random_forest_mse)"
      ],
      "metadata": {
        "colab": {
          "base_uri": "https://localhost:8080/"
        },
        "id": "8EQzUqv758b9",
        "outputId": "4a9339bf-f859-41b7-a61f-d416df4d0d59"
      },
      "execution_count": null,
      "outputs": [
        {
          "output_type": "stream",
          "name": "stdout",
          "text": [
            "Random Forest Regression MSE: 0.04426726641770651\n"
          ]
        }
      ]
    },
    {
      "cell_type": "code",
      "source": [
        "# Gradient Boosting Regression\n",
        "gradient_boosting = GradientBoostingRegressor()\n",
        "gradient_boosting.fit(X_train, y_train)\n",
        "gradient_boosting_pred = gradient_boosting.predict(X_test)\n",
        "gradient_boosting_mse = mean_squared_error(y_test, gradient_boosting_pred)\n",
        "print(\"Gradient Boosting Regression MSE:\", gradient_boosting_mse)"
      ],
      "metadata": {
        "colab": {
          "base_uri": "https://localhost:8080/"
        },
        "id": "GVY7yoIK5-N4",
        "outputId": "64b3e70e-f11f-42c5-cf67-68c8dffe064f"
      },
      "execution_count": null,
      "outputs": [
        {
          "output_type": "stream",
          "name": "stdout",
          "text": [
            "Gradient Boosting Regression MSE: 0.044056462451801635\n"
          ]
        }
      ]
    },
    {
      "cell_type": "markdown",
      "source": [
        "Hyperparameter Tuning of the Models"
      ],
      "metadata": {
        "id": "F8XfAyNADQBa"
      }
    },
    {
      "cell_type": "code",
      "source": [
        "# Define hyperparameters grid for each model\n",
        "param_grid_linear_reg = {\n",
        "    'fit_intercept': [True, False]\n",
        "}\n",
        "\n",
        "param_grid_svr = {\n",
        "    'kernel': ['linear', 'rbf'],\n",
        "    'C': [0.1, 1, 10],\n",
        "    'gamma': ['scale', 'auto']\n",
        "}\n",
        "\n",
        "param_grid_random_forest = {\n",
        "    'n_estimators': [50, 100, 200],\n",
        "    'max_depth': [None, 10, 20],\n",
        "    'min_samples_split': [2, 5, 10],\n",
        "    'min_samples_leaf': [1, 2, 4]\n",
        "}\n",
        "\n",
        "param_grid_gradient_boosting = {\n",
        "    'n_estimators': [50, 100, 200],\n",
        "    'learning_rate': [0.01, 0.1, 0.2],\n",
        "    'max_depth': [3, 5, 10],\n",
        "    'min_samples_split': [2, 5, 10]\n",
        "}\n",
        "\n",
        "# Perform grid search cross-validation for each model\n",
        "grid_search_linear_reg = GridSearchCV(LinearRegression(), param_grid_linear_reg, cv=5, scoring='neg_mean_squared_error')\n",
        "grid_search_svr = GridSearchCV(SVR(), param_grid_svr, cv=5, scoring='neg_mean_squared_error')\n",
        "grid_search_random_forest = GridSearchCV(RandomForestRegressor(), param_grid_random_forest, cv=5, scoring='neg_mean_squared_error')\n",
        "grid_search_gradient_boosting = GridSearchCV(GradientBoostingRegressor(), param_grid_gradient_boosting, cv=5, scoring='neg_mean_squared_error')\n",
        "\n",
        "# Fit the grid search objects to the data\n",
        "grid_search_linear_reg.fit(X_train, y_train)\n",
        "grid_search_svr.fit(X_train, y_train)\n",
        "grid_search_random_forest.fit(X_train, y_train)\n",
        "grid_search_gradient_boosting.fit(X_train, y_train)\n",
        "\n",
        "# Get the best hyperparameters and corresponding MSE for each model\n",
        "best_params_linear_reg = grid_search_linear_reg.best_params_\n",
        "best_score_linear_reg = -grid_search_linear_reg.best_score_\n",
        "\n",
        "best_params_svr = grid_search_svr.best_params_\n",
        "best_score_svr = -grid_search_svr.best_score_\n",
        "\n",
        "best_params_random_forest = grid_search_random_forest.best_params_\n",
        "best_score_random_forest = -grid_search_random_forest.best_score_\n",
        "\n",
        "best_params_gradient_boosting = grid_search_gradient_boosting.best_params_\n",
        "best_score_gradient_boosting = -grid_search_gradient_boosting.best_score_\n",
        "\n",
        "print(\"Best Parameters for Linear Regression:\", best_params_linear_reg)\n",
        "print(\"Best MSE for Linear Regression:\", best_score_linear_reg)\n",
        "\n",
        "print(\"Best Parameters for SVR:\", best_params_svr)\n",
        "print(\"Best MSE for SVR:\", best_score_svr)\n",
        "\n",
        "print(\"Best Parameters for Random Forest Regression:\", best_params_random_forest)\n",
        "print(\"Best MSE for Random Forest Regression:\", best_score_random_forest)\n",
        "\n",
        "print(\"Best Parameters for Gradient Boosting Regression:\", best_params_gradient_boosting)\n",
        "print(\"Best MSE for Gradient Boosting Regression:\", best_score_gradient_boosting)\n"
      ],
      "metadata": {
        "colab": {
          "base_uri": "https://localhost:8080/",
          "height": 356
        },
        "id": "E_Qc31548m6Y",
        "outputId": "0454b987-189d-4fa9-9a80-228ec2e1f446"
      },
      "execution_count": null,
      "outputs": [
        {
          "output_type": "error",
          "ename": "KeyboardInterrupt",
          "evalue": "",
          "traceback": [
            "\u001b[0;31m---------------------------------------------------------------------------\u001b[0m",
            "\u001b[0;31mKeyboardInterrupt\u001b[0m                         Traceback (most recent call last)",
            "\u001b[0;32m<ipython-input-83-6b5390a553cc>\u001b[0m in \u001b[0;36m<cell line: 41>\u001b[0;34m()\u001b[0m\n\u001b[1;32m     39\u001b[0m \u001b[0mgrid_search_linear_reg\u001b[0m\u001b[0;34m.\u001b[0m\u001b[0mfit\u001b[0m\u001b[0;34m(\u001b[0m\u001b[0mX_train\u001b[0m\u001b[0;34m,\u001b[0m \u001b[0my_train\u001b[0m\u001b[0;34m)\u001b[0m\u001b[0;34m\u001b[0m\u001b[0;34m\u001b[0m\u001b[0m\n\u001b[1;32m     40\u001b[0m \u001b[0mgrid_search_svr\u001b[0m\u001b[0;34m.\u001b[0m\u001b[0mfit\u001b[0m\u001b[0;34m(\u001b[0m\u001b[0mX_train\u001b[0m\u001b[0;34m,\u001b[0m \u001b[0my_train\u001b[0m\u001b[0;34m)\u001b[0m\u001b[0;34m\u001b[0m\u001b[0;34m\u001b[0m\u001b[0m\n\u001b[0;32m---> 41\u001b[0;31m \u001b[0mgrid_search_random_forest\u001b[0m\u001b[0;34m.\u001b[0m\u001b[0mfit\u001b[0m\u001b[0;34m(\u001b[0m\u001b[0mX_train\u001b[0m\u001b[0;34m,\u001b[0m \u001b[0my_train\u001b[0m\u001b[0;34m)\u001b[0m\u001b[0;34m\u001b[0m\u001b[0;34m\u001b[0m\u001b[0m\n\u001b[0m\u001b[1;32m     42\u001b[0m \u001b[0mgrid_search_gradient_boosting\u001b[0m\u001b[0;34m.\u001b[0m\u001b[0mfit\u001b[0m\u001b[0;34m(\u001b[0m\u001b[0mX_train\u001b[0m\u001b[0;34m,\u001b[0m \u001b[0my_train\u001b[0m\u001b[0;34m)\u001b[0m\u001b[0;34m\u001b[0m\u001b[0;34m\u001b[0m\u001b[0m\n\u001b[1;32m     43\u001b[0m \u001b[0;34m\u001b[0m\u001b[0m\n",
            "\u001b[0;32m/usr/local/lib/python3.10/dist-packages/sklearn/model_selection/_search.py\u001b[0m in \u001b[0;36mfit\u001b[0;34m(self, X, y, groups, **fit_params)\u001b[0m\n\u001b[1;32m    872\u001b[0m                 \u001b[0;32mreturn\u001b[0m \u001b[0mresults\u001b[0m\u001b[0;34m\u001b[0m\u001b[0;34m\u001b[0m\u001b[0m\n\u001b[1;32m    873\u001b[0m \u001b[0;34m\u001b[0m\u001b[0m\n\u001b[0;32m--> 874\u001b[0;31m             \u001b[0mself\u001b[0m\u001b[0;34m.\u001b[0m\u001b[0m_run_search\u001b[0m\u001b[0;34m(\u001b[0m\u001b[0mevaluate_candidates\u001b[0m\u001b[0;34m)\u001b[0m\u001b[0;34m\u001b[0m\u001b[0;34m\u001b[0m\u001b[0m\n\u001b[0m\u001b[1;32m    875\u001b[0m \u001b[0;34m\u001b[0m\u001b[0m\n\u001b[1;32m    876\u001b[0m             \u001b[0;31m# multimetric is determined here because in the case of a callable\u001b[0m\u001b[0;34m\u001b[0m\u001b[0;34m\u001b[0m\u001b[0m\n",
            "\u001b[0;32m/usr/local/lib/python3.10/dist-packages/sklearn/model_selection/_search.py\u001b[0m in \u001b[0;36m_run_search\u001b[0;34m(self, evaluate_candidates)\u001b[0m\n\u001b[1;32m   1386\u001b[0m     \u001b[0;32mdef\u001b[0m \u001b[0m_run_search\u001b[0m\u001b[0;34m(\u001b[0m\u001b[0mself\u001b[0m\u001b[0;34m,\u001b[0m \u001b[0mevaluate_candidates\u001b[0m\u001b[0;34m)\u001b[0m\u001b[0;34m:\u001b[0m\u001b[0;34m\u001b[0m\u001b[0;34m\u001b[0m\u001b[0m\n\u001b[1;32m   1387\u001b[0m         \u001b[0;34m\"\"\"Search all candidates in param_grid\"\"\"\u001b[0m\u001b[0;34m\u001b[0m\u001b[0;34m\u001b[0m\u001b[0m\n\u001b[0;32m-> 1388\u001b[0;31m         \u001b[0mevaluate_candidates\u001b[0m\u001b[0;34m(\u001b[0m\u001b[0mParameterGrid\u001b[0m\u001b[0;34m(\u001b[0m\u001b[0mself\u001b[0m\u001b[0;34m.\u001b[0m\u001b[0mparam_grid\u001b[0m\u001b[0;34m)\u001b[0m\u001b[0;34m)\u001b[0m\u001b[0;34m\u001b[0m\u001b[0;34m\u001b[0m\u001b[0m\n\u001b[0m\u001b[1;32m   1389\u001b[0m \u001b[0;34m\u001b[0m\u001b[0m\n\u001b[1;32m   1390\u001b[0m \u001b[0;34m\u001b[0m\u001b[0m\n",
            "\u001b[0;32m/usr/local/lib/python3.10/dist-packages/sklearn/model_selection/_search.py\u001b[0m in \u001b[0;36mevaluate_candidates\u001b[0;34m(candidate_params, cv, more_results)\u001b[0m\n\u001b[1;32m    819\u001b[0m                     )\n\u001b[1;32m    820\u001b[0m \u001b[0;34m\u001b[0m\u001b[0m\n\u001b[0;32m--> 821\u001b[0;31m                 out = parallel(\n\u001b[0m\u001b[1;32m    822\u001b[0m                     delayed(_fit_and_score)(\n\u001b[1;32m    823\u001b[0m                         \u001b[0mclone\u001b[0m\u001b[0;34m(\u001b[0m\u001b[0mbase_estimator\u001b[0m\u001b[0;34m)\u001b[0m\u001b[0;34m,\u001b[0m\u001b[0;34m\u001b[0m\u001b[0;34m\u001b[0m\u001b[0m\n",
            "\u001b[0;32m/usr/local/lib/python3.10/dist-packages/sklearn/utils/parallel.py\u001b[0m in \u001b[0;36m__call__\u001b[0;34m(self, iterable)\u001b[0m\n\u001b[1;32m     61\u001b[0m             \u001b[0;32mfor\u001b[0m \u001b[0mdelayed_func\u001b[0m\u001b[0;34m,\u001b[0m \u001b[0margs\u001b[0m\u001b[0;34m,\u001b[0m \u001b[0mkwargs\u001b[0m \u001b[0;32min\u001b[0m \u001b[0miterable\u001b[0m\u001b[0;34m\u001b[0m\u001b[0;34m\u001b[0m\u001b[0m\n\u001b[1;32m     62\u001b[0m         )\n\u001b[0;32m---> 63\u001b[0;31m         \u001b[0;32mreturn\u001b[0m \u001b[0msuper\u001b[0m\u001b[0;34m(\u001b[0m\u001b[0;34m)\u001b[0m\u001b[0;34m.\u001b[0m\u001b[0m__call__\u001b[0m\u001b[0;34m(\u001b[0m\u001b[0miterable_with_config\u001b[0m\u001b[0;34m)\u001b[0m\u001b[0;34m\u001b[0m\u001b[0;34m\u001b[0m\u001b[0m\n\u001b[0m\u001b[1;32m     64\u001b[0m \u001b[0;34m\u001b[0m\u001b[0m\n\u001b[1;32m     65\u001b[0m \u001b[0;34m\u001b[0m\u001b[0m\n",
            "\u001b[0;32m/usr/local/lib/python3.10/dist-packages/joblib/parallel.py\u001b[0m in \u001b[0;36m__call__\u001b[0;34m(self, iterable)\u001b[0m\n\u001b[1;32m   1916\u001b[0m             \u001b[0moutput\u001b[0m \u001b[0;34m=\u001b[0m \u001b[0mself\u001b[0m\u001b[0;34m.\u001b[0m\u001b[0m_get_sequential_output\u001b[0m\u001b[0;34m(\u001b[0m\u001b[0miterable\u001b[0m\u001b[0;34m)\u001b[0m\u001b[0;34m\u001b[0m\u001b[0;34m\u001b[0m\u001b[0m\n\u001b[1;32m   1917\u001b[0m             \u001b[0mnext\u001b[0m\u001b[0;34m(\u001b[0m\u001b[0moutput\u001b[0m\u001b[0;34m)\u001b[0m\u001b[0;34m\u001b[0m\u001b[0;34m\u001b[0m\u001b[0m\n\u001b[0;32m-> 1918\u001b[0;31m             \u001b[0;32mreturn\u001b[0m \u001b[0moutput\u001b[0m \u001b[0;32mif\u001b[0m \u001b[0mself\u001b[0m\u001b[0;34m.\u001b[0m\u001b[0mreturn_generator\u001b[0m \u001b[0;32melse\u001b[0m \u001b[0mlist\u001b[0m\u001b[0;34m(\u001b[0m\u001b[0moutput\u001b[0m\u001b[0;34m)\u001b[0m\u001b[0;34m\u001b[0m\u001b[0;34m\u001b[0m\u001b[0m\n\u001b[0m\u001b[1;32m   1919\u001b[0m \u001b[0;34m\u001b[0m\u001b[0m\n\u001b[1;32m   1920\u001b[0m         \u001b[0;31m# Let's create an ID that uniquely identifies the current call. If the\u001b[0m\u001b[0;34m\u001b[0m\u001b[0;34m\u001b[0m\u001b[0m\n",
            "\u001b[0;32m/usr/local/lib/python3.10/dist-packages/joblib/parallel.py\u001b[0m in \u001b[0;36m_get_sequential_output\u001b[0;34m(self, iterable)\u001b[0m\n\u001b[1;32m   1845\u001b[0m                 \u001b[0mself\u001b[0m\u001b[0;34m.\u001b[0m\u001b[0mn_dispatched_batches\u001b[0m \u001b[0;34m+=\u001b[0m \u001b[0;36m1\u001b[0m\u001b[0;34m\u001b[0m\u001b[0;34m\u001b[0m\u001b[0m\n\u001b[1;32m   1846\u001b[0m                 \u001b[0mself\u001b[0m\u001b[0;34m.\u001b[0m\u001b[0mn_dispatched_tasks\u001b[0m \u001b[0;34m+=\u001b[0m \u001b[0;36m1\u001b[0m\u001b[0;34m\u001b[0m\u001b[0;34m\u001b[0m\u001b[0m\n\u001b[0;32m-> 1847\u001b[0;31m                 \u001b[0mres\u001b[0m \u001b[0;34m=\u001b[0m \u001b[0mfunc\u001b[0m\u001b[0;34m(\u001b[0m\u001b[0;34m*\u001b[0m\u001b[0margs\u001b[0m\u001b[0;34m,\u001b[0m \u001b[0;34m**\u001b[0m\u001b[0mkwargs\u001b[0m\u001b[0;34m)\u001b[0m\u001b[0;34m\u001b[0m\u001b[0;34m\u001b[0m\u001b[0m\n\u001b[0m\u001b[1;32m   1848\u001b[0m                 \u001b[0mself\u001b[0m\u001b[0;34m.\u001b[0m\u001b[0mn_completed_tasks\u001b[0m \u001b[0;34m+=\u001b[0m \u001b[0;36m1\u001b[0m\u001b[0;34m\u001b[0m\u001b[0;34m\u001b[0m\u001b[0m\n\u001b[1;32m   1849\u001b[0m                 \u001b[0mself\u001b[0m\u001b[0;34m.\u001b[0m\u001b[0mprint_progress\u001b[0m\u001b[0;34m(\u001b[0m\u001b[0;34m)\u001b[0m\u001b[0;34m\u001b[0m\u001b[0;34m\u001b[0m\u001b[0m\n",
            "\u001b[0;32m/usr/local/lib/python3.10/dist-packages/sklearn/utils/parallel.py\u001b[0m in \u001b[0;36m__call__\u001b[0;34m(self, *args, **kwargs)\u001b[0m\n\u001b[1;32m    121\u001b[0m             \u001b[0mconfig\u001b[0m \u001b[0;34m=\u001b[0m \u001b[0;34m{\u001b[0m\u001b[0;34m}\u001b[0m\u001b[0;34m\u001b[0m\u001b[0;34m\u001b[0m\u001b[0m\n\u001b[1;32m    122\u001b[0m         \u001b[0;32mwith\u001b[0m \u001b[0mconfig_context\u001b[0m\u001b[0;34m(\u001b[0m\u001b[0;34m**\u001b[0m\u001b[0mconfig\u001b[0m\u001b[0;34m)\u001b[0m\u001b[0;34m:\u001b[0m\u001b[0;34m\u001b[0m\u001b[0;34m\u001b[0m\u001b[0m\n\u001b[0;32m--> 123\u001b[0;31m             \u001b[0;32mreturn\u001b[0m \u001b[0mself\u001b[0m\u001b[0;34m.\u001b[0m\u001b[0mfunction\u001b[0m\u001b[0;34m(\u001b[0m\u001b[0;34m*\u001b[0m\u001b[0margs\u001b[0m\u001b[0;34m,\u001b[0m \u001b[0;34m**\u001b[0m\u001b[0mkwargs\u001b[0m\u001b[0;34m)\u001b[0m\u001b[0;34m\u001b[0m\u001b[0;34m\u001b[0m\u001b[0m\n\u001b[0m",
            "\u001b[0;32m/usr/local/lib/python3.10/dist-packages/sklearn/model_selection/_validation.py\u001b[0m in \u001b[0;36m_fit_and_score\u001b[0;34m(estimator, X, y, scorer, train, test, verbose, parameters, fit_params, return_train_score, return_parameters, return_n_test_samples, return_times, return_estimator, split_progress, candidate_progress, error_score)\u001b[0m\n\u001b[1;32m    684\u001b[0m             \u001b[0mestimator\u001b[0m\u001b[0;34m.\u001b[0m\u001b[0mfit\u001b[0m\u001b[0;34m(\u001b[0m\u001b[0mX_train\u001b[0m\u001b[0;34m,\u001b[0m \u001b[0;34m**\u001b[0m\u001b[0mfit_params\u001b[0m\u001b[0;34m)\u001b[0m\u001b[0;34m\u001b[0m\u001b[0;34m\u001b[0m\u001b[0m\n\u001b[1;32m    685\u001b[0m         \u001b[0;32melse\u001b[0m\u001b[0;34m:\u001b[0m\u001b[0;34m\u001b[0m\u001b[0;34m\u001b[0m\u001b[0m\n\u001b[0;32m--> 686\u001b[0;31m             \u001b[0mestimator\u001b[0m\u001b[0;34m.\u001b[0m\u001b[0mfit\u001b[0m\u001b[0;34m(\u001b[0m\u001b[0mX_train\u001b[0m\u001b[0;34m,\u001b[0m \u001b[0my_train\u001b[0m\u001b[0;34m,\u001b[0m \u001b[0;34m**\u001b[0m\u001b[0mfit_params\u001b[0m\u001b[0;34m)\u001b[0m\u001b[0;34m\u001b[0m\u001b[0;34m\u001b[0m\u001b[0m\n\u001b[0m\u001b[1;32m    687\u001b[0m \u001b[0;34m\u001b[0m\u001b[0m\n\u001b[1;32m    688\u001b[0m     \u001b[0;32mexcept\u001b[0m \u001b[0mException\u001b[0m\u001b[0;34m:\u001b[0m\u001b[0;34m\u001b[0m\u001b[0;34m\u001b[0m\u001b[0m\n",
            "\u001b[0;32m/usr/local/lib/python3.10/dist-packages/sklearn/ensemble/_forest.py\u001b[0m in \u001b[0;36mfit\u001b[0;34m(self, X, y, sample_weight)\u001b[0m\n\u001b[1;32m    471\u001b[0m             \u001b[0;31m# parallel_backend contexts set at a higher level,\u001b[0m\u001b[0;34m\u001b[0m\u001b[0;34m\u001b[0m\u001b[0m\n\u001b[1;32m    472\u001b[0m             \u001b[0;31m# since correctness does not rely on using threads.\u001b[0m\u001b[0;34m\u001b[0m\u001b[0;34m\u001b[0m\u001b[0m\n\u001b[0;32m--> 473\u001b[0;31m             trees = Parallel(\n\u001b[0m\u001b[1;32m    474\u001b[0m                 \u001b[0mn_jobs\u001b[0m\u001b[0;34m=\u001b[0m\u001b[0mself\u001b[0m\u001b[0;34m.\u001b[0m\u001b[0mn_jobs\u001b[0m\u001b[0;34m,\u001b[0m\u001b[0;34m\u001b[0m\u001b[0;34m\u001b[0m\u001b[0m\n\u001b[1;32m    475\u001b[0m                 \u001b[0mverbose\u001b[0m\u001b[0;34m=\u001b[0m\u001b[0mself\u001b[0m\u001b[0;34m.\u001b[0m\u001b[0mverbose\u001b[0m\u001b[0;34m,\u001b[0m\u001b[0;34m\u001b[0m\u001b[0;34m\u001b[0m\u001b[0m\n",
            "\u001b[0;32m/usr/local/lib/python3.10/dist-packages/sklearn/utils/parallel.py\u001b[0m in \u001b[0;36m__call__\u001b[0;34m(self, iterable)\u001b[0m\n\u001b[1;32m     61\u001b[0m             \u001b[0;32mfor\u001b[0m \u001b[0mdelayed_func\u001b[0m\u001b[0;34m,\u001b[0m \u001b[0margs\u001b[0m\u001b[0;34m,\u001b[0m \u001b[0mkwargs\u001b[0m \u001b[0;32min\u001b[0m \u001b[0miterable\u001b[0m\u001b[0;34m\u001b[0m\u001b[0;34m\u001b[0m\u001b[0m\n\u001b[1;32m     62\u001b[0m         )\n\u001b[0;32m---> 63\u001b[0;31m         \u001b[0;32mreturn\u001b[0m \u001b[0msuper\u001b[0m\u001b[0;34m(\u001b[0m\u001b[0;34m)\u001b[0m\u001b[0;34m.\u001b[0m\u001b[0m__call__\u001b[0m\u001b[0;34m(\u001b[0m\u001b[0miterable_with_config\u001b[0m\u001b[0;34m)\u001b[0m\u001b[0;34m\u001b[0m\u001b[0;34m\u001b[0m\u001b[0m\n\u001b[0m\u001b[1;32m     64\u001b[0m \u001b[0;34m\u001b[0m\u001b[0m\n\u001b[1;32m     65\u001b[0m \u001b[0;34m\u001b[0m\u001b[0m\n",
            "\u001b[0;32m/usr/local/lib/python3.10/dist-packages/joblib/parallel.py\u001b[0m in \u001b[0;36m__call__\u001b[0;34m(self, iterable)\u001b[0m\n\u001b[1;32m   1916\u001b[0m             \u001b[0moutput\u001b[0m \u001b[0;34m=\u001b[0m \u001b[0mself\u001b[0m\u001b[0;34m.\u001b[0m\u001b[0m_get_sequential_output\u001b[0m\u001b[0;34m(\u001b[0m\u001b[0miterable\u001b[0m\u001b[0;34m)\u001b[0m\u001b[0;34m\u001b[0m\u001b[0;34m\u001b[0m\u001b[0m\n\u001b[1;32m   1917\u001b[0m             \u001b[0mnext\u001b[0m\u001b[0;34m(\u001b[0m\u001b[0moutput\u001b[0m\u001b[0;34m)\u001b[0m\u001b[0;34m\u001b[0m\u001b[0;34m\u001b[0m\u001b[0m\n\u001b[0;32m-> 1918\u001b[0;31m             \u001b[0;32mreturn\u001b[0m \u001b[0moutput\u001b[0m \u001b[0;32mif\u001b[0m \u001b[0mself\u001b[0m\u001b[0;34m.\u001b[0m\u001b[0mreturn_generator\u001b[0m \u001b[0;32melse\u001b[0m \u001b[0mlist\u001b[0m\u001b[0;34m(\u001b[0m\u001b[0moutput\u001b[0m\u001b[0;34m)\u001b[0m\u001b[0;34m\u001b[0m\u001b[0;34m\u001b[0m\u001b[0m\n\u001b[0m\u001b[1;32m   1919\u001b[0m \u001b[0;34m\u001b[0m\u001b[0m\n\u001b[1;32m   1920\u001b[0m         \u001b[0;31m# Let's create an ID that uniquely identifies the current call. If the\u001b[0m\u001b[0;34m\u001b[0m\u001b[0;34m\u001b[0m\u001b[0m\n",
            "\u001b[0;32m/usr/local/lib/python3.10/dist-packages/joblib/parallel.py\u001b[0m in \u001b[0;36m_get_sequential_output\u001b[0;34m(self, iterable)\u001b[0m\n\u001b[1;32m   1845\u001b[0m                 \u001b[0mself\u001b[0m\u001b[0;34m.\u001b[0m\u001b[0mn_dispatched_batches\u001b[0m \u001b[0;34m+=\u001b[0m \u001b[0;36m1\u001b[0m\u001b[0;34m\u001b[0m\u001b[0;34m\u001b[0m\u001b[0m\n\u001b[1;32m   1846\u001b[0m                 \u001b[0mself\u001b[0m\u001b[0;34m.\u001b[0m\u001b[0mn_dispatched_tasks\u001b[0m \u001b[0;34m+=\u001b[0m \u001b[0;36m1\u001b[0m\u001b[0;34m\u001b[0m\u001b[0;34m\u001b[0m\u001b[0m\n\u001b[0;32m-> 1847\u001b[0;31m                 \u001b[0mres\u001b[0m \u001b[0;34m=\u001b[0m \u001b[0mfunc\u001b[0m\u001b[0;34m(\u001b[0m\u001b[0;34m*\u001b[0m\u001b[0margs\u001b[0m\u001b[0;34m,\u001b[0m \u001b[0;34m**\u001b[0m\u001b[0mkwargs\u001b[0m\u001b[0;34m)\u001b[0m\u001b[0;34m\u001b[0m\u001b[0;34m\u001b[0m\u001b[0m\n\u001b[0m\u001b[1;32m   1848\u001b[0m                 \u001b[0mself\u001b[0m\u001b[0;34m.\u001b[0m\u001b[0mn_completed_tasks\u001b[0m \u001b[0;34m+=\u001b[0m \u001b[0;36m1\u001b[0m\u001b[0;34m\u001b[0m\u001b[0;34m\u001b[0m\u001b[0m\n\u001b[1;32m   1849\u001b[0m                 \u001b[0mself\u001b[0m\u001b[0;34m.\u001b[0m\u001b[0mprint_progress\u001b[0m\u001b[0;34m(\u001b[0m\u001b[0;34m)\u001b[0m\u001b[0;34m\u001b[0m\u001b[0;34m\u001b[0m\u001b[0m\n",
            "\u001b[0;32m/usr/local/lib/python3.10/dist-packages/sklearn/utils/parallel.py\u001b[0m in \u001b[0;36m__call__\u001b[0;34m(self, *args, **kwargs)\u001b[0m\n\u001b[1;32m    121\u001b[0m             \u001b[0mconfig\u001b[0m \u001b[0;34m=\u001b[0m \u001b[0;34m{\u001b[0m\u001b[0;34m}\u001b[0m\u001b[0;34m\u001b[0m\u001b[0;34m\u001b[0m\u001b[0m\n\u001b[1;32m    122\u001b[0m         \u001b[0;32mwith\u001b[0m \u001b[0mconfig_context\u001b[0m\u001b[0;34m(\u001b[0m\u001b[0;34m**\u001b[0m\u001b[0mconfig\u001b[0m\u001b[0;34m)\u001b[0m\u001b[0;34m:\u001b[0m\u001b[0;34m\u001b[0m\u001b[0;34m\u001b[0m\u001b[0m\n\u001b[0;32m--> 123\u001b[0;31m             \u001b[0;32mreturn\u001b[0m \u001b[0mself\u001b[0m\u001b[0;34m.\u001b[0m\u001b[0mfunction\u001b[0m\u001b[0;34m(\u001b[0m\u001b[0;34m*\u001b[0m\u001b[0margs\u001b[0m\u001b[0;34m,\u001b[0m \u001b[0;34m**\u001b[0m\u001b[0mkwargs\u001b[0m\u001b[0;34m)\u001b[0m\u001b[0;34m\u001b[0m\u001b[0;34m\u001b[0m\u001b[0m\n\u001b[0m",
            "\u001b[0;32m/usr/local/lib/python3.10/dist-packages/sklearn/ensemble/_forest.py\u001b[0m in \u001b[0;36m_parallel_build_trees\u001b[0;34m(tree, bootstrap, X, y, sample_weight, tree_idx, n_trees, verbose, class_weight, n_samples_bootstrap)\u001b[0m\n\u001b[1;32m    182\u001b[0m             \u001b[0mcurr_sample_weight\u001b[0m \u001b[0;34m*=\u001b[0m \u001b[0mcompute_sample_weight\u001b[0m\u001b[0;34m(\u001b[0m\u001b[0;34m\"balanced\"\u001b[0m\u001b[0;34m,\u001b[0m \u001b[0my\u001b[0m\u001b[0;34m,\u001b[0m \u001b[0mindices\u001b[0m\u001b[0;34m=\u001b[0m\u001b[0mindices\u001b[0m\u001b[0;34m)\u001b[0m\u001b[0;34m\u001b[0m\u001b[0;34m\u001b[0m\u001b[0m\n\u001b[1;32m    183\u001b[0m \u001b[0;34m\u001b[0m\u001b[0m\n\u001b[0;32m--> 184\u001b[0;31m         \u001b[0mtree\u001b[0m\u001b[0;34m.\u001b[0m\u001b[0mfit\u001b[0m\u001b[0;34m(\u001b[0m\u001b[0mX\u001b[0m\u001b[0;34m,\u001b[0m \u001b[0my\u001b[0m\u001b[0;34m,\u001b[0m \u001b[0msample_weight\u001b[0m\u001b[0;34m=\u001b[0m\u001b[0mcurr_sample_weight\u001b[0m\u001b[0;34m,\u001b[0m \u001b[0mcheck_input\u001b[0m\u001b[0;34m=\u001b[0m\u001b[0;32mFalse\u001b[0m\u001b[0;34m)\u001b[0m\u001b[0;34m\u001b[0m\u001b[0;34m\u001b[0m\u001b[0m\n\u001b[0m\u001b[1;32m    185\u001b[0m     \u001b[0;32melse\u001b[0m\u001b[0;34m:\u001b[0m\u001b[0;34m\u001b[0m\u001b[0;34m\u001b[0m\u001b[0m\n\u001b[1;32m    186\u001b[0m         \u001b[0mtree\u001b[0m\u001b[0;34m.\u001b[0m\u001b[0mfit\u001b[0m\u001b[0;34m(\u001b[0m\u001b[0mX\u001b[0m\u001b[0;34m,\u001b[0m \u001b[0my\u001b[0m\u001b[0;34m,\u001b[0m \u001b[0msample_weight\u001b[0m\u001b[0;34m=\u001b[0m\u001b[0msample_weight\u001b[0m\u001b[0;34m,\u001b[0m \u001b[0mcheck_input\u001b[0m\u001b[0;34m=\u001b[0m\u001b[0;32mFalse\u001b[0m\u001b[0;34m)\u001b[0m\u001b[0;34m\u001b[0m\u001b[0;34m\u001b[0m\u001b[0m\n",
            "\u001b[0;32m/usr/local/lib/python3.10/dist-packages/sklearn/tree/_classes.py\u001b[0m in \u001b[0;36mfit\u001b[0;34m(self, X, y, sample_weight, check_input)\u001b[0m\n\u001b[1;32m   1245\u001b[0m         \"\"\"\n\u001b[1;32m   1246\u001b[0m \u001b[0;34m\u001b[0m\u001b[0m\n\u001b[0;32m-> 1247\u001b[0;31m         super().fit(\n\u001b[0m\u001b[1;32m   1248\u001b[0m             \u001b[0mX\u001b[0m\u001b[0;34m,\u001b[0m\u001b[0;34m\u001b[0m\u001b[0;34m\u001b[0m\u001b[0m\n\u001b[1;32m   1249\u001b[0m             \u001b[0my\u001b[0m\u001b[0;34m,\u001b[0m\u001b[0;34m\u001b[0m\u001b[0;34m\u001b[0m\u001b[0m\n",
            "\u001b[0;32m/usr/local/lib/python3.10/dist-packages/sklearn/tree/_classes.py\u001b[0m in \u001b[0;36mfit\u001b[0;34m(self, X, y, sample_weight, check_input)\u001b[0m\n\u001b[1;32m    377\u001b[0m             )\n\u001b[1;32m    378\u001b[0m \u001b[0;34m\u001b[0m\u001b[0m\n\u001b[0;32m--> 379\u001b[0;31m         \u001b[0mbuilder\u001b[0m\u001b[0;34m.\u001b[0m\u001b[0mbuild\u001b[0m\u001b[0;34m(\u001b[0m\u001b[0mself\u001b[0m\u001b[0;34m.\u001b[0m\u001b[0mtree_\u001b[0m\u001b[0;34m,\u001b[0m \u001b[0mX\u001b[0m\u001b[0;34m,\u001b[0m \u001b[0my\u001b[0m\u001b[0;34m,\u001b[0m \u001b[0msample_weight\u001b[0m\u001b[0;34m)\u001b[0m\u001b[0;34m\u001b[0m\u001b[0;34m\u001b[0m\u001b[0m\n\u001b[0m\u001b[1;32m    380\u001b[0m \u001b[0;34m\u001b[0m\u001b[0m\n\u001b[1;32m    381\u001b[0m         \u001b[0;32mif\u001b[0m \u001b[0mself\u001b[0m\u001b[0;34m.\u001b[0m\u001b[0mn_outputs_\u001b[0m \u001b[0;34m==\u001b[0m \u001b[0;36m1\u001b[0m \u001b[0;32mand\u001b[0m \u001b[0mis_classifier\u001b[0m\u001b[0;34m(\u001b[0m\u001b[0mself\u001b[0m\u001b[0;34m)\u001b[0m\u001b[0;34m:\u001b[0m\u001b[0;34m\u001b[0m\u001b[0;34m\u001b[0m\u001b[0m\n",
            "\u001b[0;31mKeyboardInterrupt\u001b[0m: "
          ]
        }
      ]
    }
  ]
}